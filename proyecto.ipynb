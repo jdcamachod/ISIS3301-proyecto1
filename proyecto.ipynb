{
 "cells": [
  {
   "cell_type": "markdown",
   "metadata": {
    "id": "2riIlpbtC92U"
   },
   "source": [
    "# Tweets influencing Bitcoin\n",
    "\n",
    "La idea es crear un modelo que dado un tweet pueda predecir su efecto en el precion del bitcoin. Las categorias son Positivo: aumenta el precio, Negativo: disminuye el precio, Neutral: no hay cambio en el precio.\n",
    "\n",
    "Para esto usaremos un modelo de clasificacion."
   ]
  },
  {
   "cell_type": "code",
   "execution_count": 33,
   "metadata": {
    "id": "q7tTa7PHC92V",
    "outputId": "9f55ce26-fe16-4ed0-8f20-9cf37c6ea5c7"
   },
   "outputs": [
    {
     "name": "stdout",
     "output_type": "stream",
     "text": [
      "Requirement already satisfied: langid in /Users/diego/opt/anaconda3/lib/python3.8/site-packages (1.1.6)\n",
      "Requirement already satisfied: numpy in /Users/diego/opt/anaconda3/lib/python3.8/site-packages (from langid) (1.20.1)\n",
      "Requirement already satisfied: many-stop-words in /Users/diego/opt/anaconda3/lib/python3.8/site-packages (0.2.2)\n",
      "Requirement already satisfied: emoji in /Users/diego/opt/anaconda3/lib/python3.8/site-packages (1.5.0)\n"
     ]
    }
   ],
   "source": [
    "!pip install langid\n",
    "!pip install many-stop-words\n",
    "!pip install emoji\n",
    "import pandas as pd\n",
    "import langid\n",
    "import warnings\n",
    "import re\n",
    "import matplotlib.pyplot as plt\n",
    "from sklearn.preprocessing import LabelEncoder\n",
    "from statistics import mode\n",
    "import nltk\n",
    "from nltk.corpus import stopwords\n",
    "import many_stop_words\n",
    "import emoji\n",
    "from nltk.stem.porter import PorterStemmer\n",
    "from sklearn.feature_extraction.text import TfidfVectorizer, CountVectorizer, HashingVectorizer\n",
    "from sklearn.model_selection import train_test_split\n",
    "from sklearn.tree import DecisionTreeClassifier\n",
    "from sklearn.neighbors import KNeighborsClassifier\n",
    "from sklearn.ensemble import RandomForestClassifier\n",
    "from sklearn.metrics import confusion_matrix, classification_report, precision_score, recall_score, f1_score, accuracy_score\n",
    "from sklearn.model_selection import KFold\n",
    "from sklearn.model_selection import GridSearchCV\n",
    "import ssl\n",
    "from joblib import dump, load\n",
    "warnings.filterwarnings('ignore')\n"
   ]
  },
  {
   "cell_type": "markdown",
   "metadata": {
    "id": "R22iQg_SC92W"
   },
   "source": [
    "## Perfilamiento"
   ]
  },
  {
   "cell_type": "code",
   "execution_count": 34,
   "metadata": {
    "id": "TRq4K0cNC92W"
   },
   "outputs": [],
   "source": [
    "filename = \"mbsa.csv\"\n",
    "datosO = pd.read_csv(filename)"
   ]
  },
  {
   "cell_type": "code",
   "execution_count": 35,
   "metadata": {
    "id": "IxwE4NCQC92W"
   },
   "outputs": [],
   "source": [
    "datos = datosO.sample(n=12000)"
   ]
  },
  {
   "cell_type": "code",
   "execution_count": 36,
   "metadata": {
    "id": "B3UaGs2sC92W",
    "outputId": "c2913f8a-e3dc-4417-dcc9-ae189760ad6e"
   },
   "outputs": [
    {
     "name": "stdout",
     "output_type": "stream",
     "text": [
      "<class 'pandas.core.frame.DataFrame'>\n",
      "Int64Index: 12000 entries, 11595545 to 512476\n",
      "Data columns (total 3 columns):\n",
      " #   Column     Non-Null Count  Dtype \n",
      "---  ------     --------------  ----- \n",
      " 0   Date       12000 non-null  object\n",
      " 1   text       12000 non-null  object\n",
      " 2   Sentiment  11487 non-null  object\n",
      "dtypes: object(3)\n",
      "memory usage: 375.0+ KB\n"
     ]
    }
   ],
   "source": [
    "datos.info()"
   ]
  },
  {
   "cell_type": "markdown",
   "metadata": {
    "id": "MGk2dNu8C92W"
   },
   "source": [
    "### Eliminar nulos"
   ]
  },
  {
   "cell_type": "code",
   "execution_count": 37,
   "metadata": {
    "id": "JWgBBwDxC92X"
   },
   "outputs": [],
   "source": [
    "datos = datos[datos['Sentiment'].notna()]"
   ]
  },
  {
   "cell_type": "markdown",
   "metadata": {
    "id": "so-OweO-C92X"
   },
   "source": [
    "### Estadisticas del Tweet"
   ]
  },
  {
   "cell_type": "code",
   "execution_count": 38,
   "metadata": {
    "id": "1LcUKQ3dC92X",
    "outputId": "89235a79-b0cc-4ddf-aaec-193f5cc81339"
   },
   "outputs": [
    {
     "data": {
      "text/html": [
       "<div>\n",
       "<style scoped>\n",
       "    .dataframe tbody tr th:only-of-type {\n",
       "        vertical-align: middle;\n",
       "    }\n",
       "\n",
       "    .dataframe tbody tr th {\n",
       "        vertical-align: top;\n",
       "    }\n",
       "\n",
       "    .dataframe thead th {\n",
       "        text-align: right;\n",
       "    }\n",
       "</style>\n",
       "<table border=\"1\" class=\"dataframe\">\n",
       "  <thead>\n",
       "    <tr style=\"text-align: right;\">\n",
       "      <th></th>\n",
       "      <th>Date</th>\n",
       "      <th>text</th>\n",
       "      <th>Sentiment</th>\n",
       "      <th>Conteo</th>\n",
       "      <th>Moda</th>\n",
       "      <th>Max</th>\n",
       "      <th>Min</th>\n",
       "    </tr>\n",
       "  </thead>\n",
       "  <tbody>\n",
       "    <tr>\n",
       "      <th>11595545</th>\n",
       "      <td>2019-07-26</td>\n",
       "      <td>$dylandavii99 https://t.co/KNMuW2rf2F</td>\n",
       "      <td>Negative</td>\n",
       "      <td>37</td>\n",
       "      <td>$dylandavii99</td>\n",
       "      <td>23</td>\n",
       "      <td>13</td>\n",
       "    </tr>\n",
       "    <tr>\n",
       "      <th>2932720</th>\n",
       "      <td>2018-08-03</td>\n",
       "      <td>@Bitcoin_Stats</td>\n",
       "      <td>Negative</td>\n",
       "      <td>14</td>\n",
       "      <td>@Bitcoin_Stats</td>\n",
       "      <td>14</td>\n",
       "      <td>14</td>\n",
       "    </tr>\n",
       "    <tr>\n",
       "      <th>5064400</th>\n",
       "      <td>2016-02-27</td>\n",
       "      <td>Making Bitcoin Theft Impossible With The Undo ...</td>\n",
       "      <td>Positive</td>\n",
       "      <td>278</td>\n",
       "      <td>Making</td>\n",
       "      <td>225</td>\n",
       "      <td>3</td>\n",
       "    </tr>\n",
       "    <tr>\n",
       "      <th>1281857</th>\n",
       "      <td>2019-05-12</td>\n",
       "      <td>235 días de mercado bajista en el #Bitcoin han...</td>\n",
       "      <td>Negative</td>\n",
       "      <td>150</td>\n",
       "      <td>días</td>\n",
       "      <td>8</td>\n",
       "      <td>2</td>\n",
       "    </tr>\n",
       "    <tr>\n",
       "      <th>18619146</th>\n",
       "      <td>2019-11-11</td>\n",
       "      <td>CoinDesk: \"Interested in alpha strategies for ...</td>\n",
       "      <td>Negative</td>\n",
       "      <td>272</td>\n",
       "      <td>strategies</td>\n",
       "      <td>11</td>\n",
       "      <td>2</td>\n",
       "    </tr>\n",
       "  </tbody>\n",
       "</table>\n",
       "</div>"
      ],
      "text/plain": [
       "                Date                                               text  \\\n",
       "11595545  2019-07-26              $dylandavii99 https://t.co/KNMuW2rf2F   \n",
       "2932720   2018-08-03                                     @Bitcoin_Stats   \n",
       "5064400   2016-02-27  Making Bitcoin Theft Impossible With The Undo ...   \n",
       "1281857   2019-05-12  235 días de mercado bajista en el #Bitcoin han...   \n",
       "18619146  2019-11-11  CoinDesk: \"Interested in alpha strategies for ...   \n",
       "\n",
       "         Sentiment  Conteo            Moda  Max  Min  \n",
       "11595545  Negative      37   $dylandavii99   23   13  \n",
       "2932720   Negative      14  @Bitcoin_Stats   14   14  \n",
       "5064400   Positive     278          Making  225    3  \n",
       "1281857   Negative     150            días    8    2  \n",
       "18619146  Negative     272      strategies   11    2  "
      ]
     },
     "execution_count": 38,
     "metadata": {},
     "output_type": "execute_result"
    }
   ],
   "source": [
    "datos['Conteo'] = [len(x) for x in datos['text']]\n",
    "datos['Moda'] = [[mode([x for x in i.split(' ')])][0] for i in datos['text']]\n",
    "datos['Max'] = [[max([len(x) for x in i.split(' ')])][0] for i in datos['text']]\n",
    "datos['Min'] = [[min([len(x) for x in i.split(' ')])][0] for i in datos['text']]\n",
    "datos.head()"
   ]
  },
  {
   "cell_type": "markdown",
   "metadata": {
    "id": "72qAjRtkC92X"
   },
   "source": [
    "### Hashtags, menciones y vinculos"
   ]
  },
  {
   "cell_type": "code",
   "execution_count": 39,
   "metadata": {
    "id": "xcyD-DyxC92X",
    "outputId": "2381d3f4-42b2-48d0-a22f-3525a4bf7cdb"
   },
   "outputs": [
    {
     "data": {
      "text/html": [
       "<div>\n",
       "<style scoped>\n",
       "    .dataframe tbody tr th:only-of-type {\n",
       "        vertical-align: middle;\n",
       "    }\n",
       "\n",
       "    .dataframe tbody tr th {\n",
       "        vertical-align: top;\n",
       "    }\n",
       "\n",
       "    .dataframe thead th {\n",
       "        text-align: right;\n",
       "    }\n",
       "</style>\n",
       "<table border=\"1\" class=\"dataframe\">\n",
       "  <thead>\n",
       "    <tr style=\"text-align: right;\">\n",
       "      <th></th>\n",
       "      <th>Date</th>\n",
       "      <th>text</th>\n",
       "      <th>Sentiment</th>\n",
       "      <th>Conteo</th>\n",
       "      <th>Moda</th>\n",
       "      <th>Max</th>\n",
       "      <th>Min</th>\n",
       "      <th>Ntags</th>\n",
       "      <th>Nmentions</th>\n",
       "      <th>Nurls</th>\n",
       "      <th>tags</th>\n",
       "      <th>mentions</th>\n",
       "      <th>newText</th>\n",
       "    </tr>\n",
       "  </thead>\n",
       "  <tbody>\n",
       "    <tr>\n",
       "      <th>11595545</th>\n",
       "      <td>2019-07-26</td>\n",
       "      <td>$dylandavii99 https://t.co/KNMuW2rf2F</td>\n",
       "      <td>Negative</td>\n",
       "      <td>37</td>\n",
       "      <td>$dylandavii99</td>\n",
       "      <td>23</td>\n",
       "      <td>13</td>\n",
       "      <td>0</td>\n",
       "      <td>0</td>\n",
       "      <td>1</td>\n",
       "      <td>[]</td>\n",
       "      <td>[]</td>\n",
       "      <td>$dylandavii99</td>\n",
       "    </tr>\n",
       "    <tr>\n",
       "      <th>2932720</th>\n",
       "      <td>2018-08-03</td>\n",
       "      <td>@Bitcoin_Stats</td>\n",
       "      <td>Negative</td>\n",
       "      <td>14</td>\n",
       "      <td>@Bitcoin_Stats</td>\n",
       "      <td>14</td>\n",
       "      <td>14</td>\n",
       "      <td>0</td>\n",
       "      <td>0</td>\n",
       "      <td>0</td>\n",
       "      <td>[]</td>\n",
       "      <td>[bitcoin_stats]</td>\n",
       "      <td></td>\n",
       "    </tr>\n",
       "    <tr>\n",
       "      <th>5064400</th>\n",
       "      <td>2016-02-27</td>\n",
       "      <td>Making Bitcoin Theft Impossible With The Undo ...</td>\n",
       "      <td>Positive</td>\n",
       "      <td>278</td>\n",
       "      <td>Making</td>\n",
       "      <td>225</td>\n",
       "      <td>3</td>\n",
       "      <td>0</td>\n",
       "      <td>0</td>\n",
       "      <td>2</td>\n",
       "      <td>[]</td>\n",
       "      <td>[]</td>\n",
       "      <td>making bitcoin theft impossible with the undo ...</td>\n",
       "    </tr>\n",
       "    <tr>\n",
       "      <th>1281857</th>\n",
       "      <td>2019-05-12</td>\n",
       "      <td>235 días de mercado bajista en el #Bitcoin han...</td>\n",
       "      <td>Negative</td>\n",
       "      <td>150</td>\n",
       "      <td>días</td>\n",
       "      <td>8</td>\n",
       "      <td>2</td>\n",
       "      <td>1</td>\n",
       "      <td>0</td>\n",
       "      <td>0</td>\n",
       "      <td>[bitcoin]</td>\n",
       "      <td>[]</td>\n",
       "      <td>235 días de mercado bajista en el  han sido bo...</td>\n",
       "    </tr>\n",
       "    <tr>\n",
       "      <th>18619146</th>\n",
       "      <td>2019-11-11</td>\n",
       "      <td>CoinDesk: \"Interested in alpha strategies for ...</td>\n",
       "      <td>Negative</td>\n",
       "      <td>272</td>\n",
       "      <td>strategies</td>\n",
       "      <td>11</td>\n",
       "      <td>2</td>\n",
       "      <td>1</td>\n",
       "      <td>0</td>\n",
       "      <td>0</td>\n",
       "      <td>[investnyc]</td>\n",
       "      <td>[]</td>\n",
       "      <td>coindesk: \"interested in alpha strategies for ...</td>\n",
       "    </tr>\n",
       "  </tbody>\n",
       "</table>\n",
       "</div>"
      ],
      "text/plain": [
       "                Date                                               text  \\\n",
       "11595545  2019-07-26              $dylandavii99 https://t.co/KNMuW2rf2F   \n",
       "2932720   2018-08-03                                     @Bitcoin_Stats   \n",
       "5064400   2016-02-27  Making Bitcoin Theft Impossible With The Undo ...   \n",
       "1281857   2019-05-12  235 días de mercado bajista en el #Bitcoin han...   \n",
       "18619146  2019-11-11  CoinDesk: \"Interested in alpha strategies for ...   \n",
       "\n",
       "         Sentiment  Conteo            Moda  Max  Min  Ntags  Nmentions  Nurls  \\\n",
       "11595545  Negative      37   $dylandavii99   23   13      0          0      1   \n",
       "2932720   Negative      14  @Bitcoin_Stats   14   14      0          0      0   \n",
       "5064400   Positive     278          Making  225    3      0          0      2   \n",
       "1281857   Negative     150            días    8    2      1          0      0   \n",
       "18619146  Negative     272      strategies   11    2      1          0      0   \n",
       "\n",
       "                 tags         mentions  \\\n",
       "11595545           []               []   \n",
       "2932720            []  [bitcoin_stats]   \n",
       "5064400            []               []   \n",
       "1281857     [bitcoin]               []   \n",
       "18619146  [investnyc]               []   \n",
       "\n",
       "                                                    newText  \n",
       "11595545                                     $dylandavii99   \n",
       "2932720                                                      \n",
       "5064400   making bitcoin theft impossible with the undo ...  \n",
       "1281857   235 días de mercado bajista en el  han sido bo...  \n",
       "18619146  coindesk: \"interested in alpha strategies for ...  "
      ]
     },
     "execution_count": 39,
     "metadata": {},
     "output_type": "execute_result"
    }
   ],
   "source": [
    "def tagsMensUrls(x):\n",
    "    x = str(x)\n",
    "    x = x.replace('\\n',' ')\n",
    "    x = x.replace('(',' ')\n",
    "    x = x.replace(')',' ')\n",
    "    x = x.replace('\\'','')\n",
    "    return x.count(' #'), x.count(' @'),x.count('http'), (tags:=bus(x,'#')), (ment:=bus(x,'@')), newText(x,tags,ment)\n",
    "def bus(x,a):\n",
    "    l = []\n",
    "    for y in x.split(' '):\n",
    "        if (y.startswith(a)):\n",
    "            l.append(y[1:].lower())\n",
    "    return l\n",
    "def newText(x,tags,ment):\n",
    "    x = x.lower()\n",
    "    for t in tags:\n",
    "        x = x.replace(\"#\"+t,\"\")\n",
    "    for m in ment:\n",
    "        x = x.replace(\"@\"+m,\"\")\n",
    "    for u in bus(x,\"http\"):\n",
    "        x = x.replace('h'+u,\"\")\n",
    "    return x\n",
    "        \n",
    "tagsMensUrlsInfo = pd.DataFrame(datos[\"text\"].apply(tagsMensUrls).tolist(),columns=[\"Ntags\",\"Nmentions\",\"Nurls\",\"tags\",\"mentions\",\"newText\"],index=datos.index)\n",
    "datos = pd.concat([datos, tagsMensUrlsInfo], axis=1)\n",
    "datos.head()"
   ]
  },
  {
   "cell_type": "markdown",
   "metadata": {
    "id": "IPWP8KMmC92X"
   },
   "source": [
    "### Encontrar idiomas"
   ]
  },
  {
   "cell_type": "code",
   "execution_count": 40,
   "metadata": {
    "id": "kPCzQcfEC92Y",
    "outputId": "e65ec9fd-e80a-4adb-b887-a7c832426506"
   },
   "outputs": [],
   "source": [
    "# datos[\"lang\"]=datos[\"newText\"].apply(lambda x: langid.classify(x)[0])\n",
    "# plt.style.use('dark_background')\n",
    "# fig=plt.figure(figsize=(21,4))\n",
    "# n,b,p=plt.hist(datos[\"lang\"])\n",
    "# plt.title(\"Idiomas\")\n",
    "# datos['lang'].value_counts()"
   ]
  },
  {
   "cell_type": "markdown",
   "metadata": {},
   "source": [
    "### Usar solo 10 idiomas mas relevantes"
   ]
  },
  {
   "cell_type": "code",
   "execution_count": 41,
   "metadata": {},
   "outputs": [],
   "source": [
    "# languages = datos['lang'].value_counts().index.values[:10]\n",
    "# datos = datos.loc[datos['lang'].isin(languages)]"
   ]
  },
  {
   "cell_type": "markdown",
   "metadata": {
    "id": "EXGeJsA2C92Y"
   },
   "source": [
    "### Ajustar sentimiento"
   ]
  },
  {
   "cell_type": "code",
   "execution_count": 42,
   "metadata": {
    "id": "EVn-2WxiC92Y"
   },
   "outputs": [],
   "source": [
    "patternP = re.compile(\"^(\\s|\\t)*(p|P)(\\s|[A-Za-z])*$\")\n",
    "patternN = re.compile(\"^(\\s|\\t)*(neg|Neg)(\\s|[A-Za-z])*$\")\n",
    "patternNeu = re.compile(\"^(\\s|\\t)*(neu|Neu)(\\s|[A-Za-z])*$\")\n",
    "patternNumb = re.compile(\"^(\\s|\\t|[A-Za-z])*([0-9])+(\\s|\\t|[A-Za-z])*$\")\n",
    "datos.loc[[True if patternP.fullmatch(datos['Sentiment'][x]) is not None else False for x in datos.index], 'Sentiment'] = \"Positive\"\n",
    "datos.loc[[True if patternN.fullmatch(datos['Sentiment'][x]) is not None else False for x in datos.index], 'Sentiment'] = \"Negative\"\n",
    "datos.loc[[True if patternNeu.fullmatch(datos['Sentiment'][x]) is not None else False for x in datos.index], 'Sentiment'] = \"Neutral\"\n",
    "datos = datos.drop(datos[[True if patternNumb.fullmatch(datos['Sentiment'][x]) is not None else False for x in datos.index]].index)"
   ]
  },
  {
   "cell_type": "markdown",
   "metadata": {
    "id": "te1rAKkbC92Y"
   },
   "source": [
    "### Visualizar datos"
   ]
  },
  {
   "cell_type": "code",
   "execution_count": 43,
   "metadata": {
    "id": "ObUQCg5tC92Y",
    "outputId": "ef9184c2-9093-4572-ae1e-ced49f8dc986"
   },
   "outputs": [
    {
     "data": {
      "text/plain": [
       "Text(0.5, 1.0, 'Sentiment')"
      ]
     },
     "execution_count": 43,
     "metadata": {},
     "output_type": "execute_result"
    },
    {
     "data": {
      "image/png": "[encoded data removed]",
      "text/plain": [
       "<Figure size 504x288 with 1 Axes>"
      ]
     },
     "metadata": {},
     "output_type": "display_data"
    }
   ],
   "source": [
    "plt.style.use('dark_background')\n",
    "fig=plt.figure(figsize=(7,4))\n",
    "a = datos[\"Sentiment\"].copy()\n",
    "a[pd.isnull(a)]=\"Sin especificar\"\n",
    "plt.hist(a)\n",
    "plt.title(\"Sentiment\")"
   ]
  },
  {
   "cell_type": "markdown",
   "metadata": {
    "id": "vxzmad3KC92Z"
   },
   "source": [
    "### Encoders"
   ]
  },
  {
   "cell_type": "code",
   "execution_count": 44,
   "metadata": {
    "id": "-pOzVPKVC92Z",
    "outputId": "1d7be214-3265-4fb4-9c8b-24d279cfa1d8"
   },
   "outputs": [
    {
     "data": {
      "text/plain": [
       "array(['Negative', 'Neutral', 'Positive'], dtype='<U8')"
      ]
     },
     "execution_count": 44,
     "metadata": {},
     "output_type": "execute_result"
    }
   ],
   "source": [
    "le = LabelEncoder()\n",
    "le.fit([\"Positive\", \"Negative\", \"Neutral\"])\n",
    "datos[\"Sentiment\"] = le.transform(datos[\"Sentiment\"])\n",
    "le.classes_"
   ]
  },
  {
   "cell_type": "markdown",
   "metadata": {
    "id": "aIxZdxzeC92Z"
   },
   "source": [
    "### Fechas"
   ]
  },
  {
   "cell_type": "code",
   "execution_count": 45,
   "metadata": {
    "id": "NFhUHGI1C92Z"
   },
   "outputs": [],
   "source": [
    "datos[\"Date\"]=pd.to_datetime(datos[\"Date\"])\n",
    "datos[\"year\"] = datos[\"Date\"].dt.year\n",
    "datos[\"month\"] = datos[\"Date\"].dt.month\n",
    "datos[\"day\"] = datos[\"Date\"].dt.day"
   ]
  },
  {
   "cell_type": "code",
   "execution_count": 46,
   "metadata": {
    "id": "jjCo1mCWC92Z",
    "outputId": "15f5c775-8e84-4728-d0ff-8710f6133bd6"
   },
   "outputs": [
    {
     "data": {
      "text/html": [
       "<div>\n",
       "<style scoped>\n",
       "    .dataframe tbody tr th:only-of-type {\n",
       "        vertical-align: middle;\n",
       "    }\n",
       "\n",
       "    .dataframe tbody tr th {\n",
       "        vertical-align: top;\n",
       "    }\n",
       "\n",
       "    .dataframe thead th {\n",
       "        text-align: right;\n",
       "    }\n",
       "</style>\n",
       "<table border=\"1\" class=\"dataframe\">\n",
       "  <thead>\n",
       "    <tr style=\"text-align: right;\">\n",
       "      <th></th>\n",
       "      <th>Date</th>\n",
       "      <th>text</th>\n",
       "      <th>Sentiment</th>\n",
       "      <th>Conteo</th>\n",
       "      <th>Moda</th>\n",
       "      <th>Max</th>\n",
       "      <th>Min</th>\n",
       "      <th>Ntags</th>\n",
       "      <th>Nmentions</th>\n",
       "      <th>Nurls</th>\n",
       "      <th>tags</th>\n",
       "      <th>mentions</th>\n",
       "      <th>newText</th>\n",
       "      <th>year</th>\n",
       "      <th>month</th>\n",
       "      <th>day</th>\n",
       "    </tr>\n",
       "  </thead>\n",
       "  <tbody>\n",
       "    <tr>\n",
       "      <th>11595545</th>\n",
       "      <td>2019-07-26</td>\n",
       "      <td>$dylandavii99 https://t.co/KNMuW2rf2F</td>\n",
       "      <td>0</td>\n",
       "      <td>37</td>\n",
       "      <td>$dylandavii99</td>\n",
       "      <td>23</td>\n",
       "      <td>13</td>\n",
       "      <td>0</td>\n",
       "      <td>0</td>\n",
       "      <td>1</td>\n",
       "      <td>[]</td>\n",
       "      <td>[]</td>\n",
       "      <td>$dylandavii99</td>\n",
       "      <td>2019</td>\n",
       "      <td>7</td>\n",
       "      <td>26</td>\n",
       "    </tr>\n",
       "    <tr>\n",
       "      <th>2932720</th>\n",
       "      <td>2018-08-03</td>\n",
       "      <td>@Bitcoin_Stats</td>\n",
       "      <td>0</td>\n",
       "      <td>14</td>\n",
       "      <td>@Bitcoin_Stats</td>\n",
       "      <td>14</td>\n",
       "      <td>14</td>\n",
       "      <td>0</td>\n",
       "      <td>0</td>\n",
       "      <td>0</td>\n",
       "      <td>[]</td>\n",
       "      <td>[bitcoin_stats]</td>\n",
       "      <td></td>\n",
       "      <td>2018</td>\n",
       "      <td>8</td>\n",
       "      <td>3</td>\n",
       "    </tr>\n",
       "    <tr>\n",
       "      <th>5064400</th>\n",
       "      <td>2016-02-27</td>\n",
       "      <td>Making Bitcoin Theft Impossible With The Undo ...</td>\n",
       "      <td>2</td>\n",
       "      <td>278</td>\n",
       "      <td>Making</td>\n",
       "      <td>225</td>\n",
       "      <td>3</td>\n",
       "      <td>0</td>\n",
       "      <td>0</td>\n",
       "      <td>2</td>\n",
       "      <td>[]</td>\n",
       "      <td>[]</td>\n",
       "      <td>making bitcoin theft impossible with the undo ...</td>\n",
       "      <td>2016</td>\n",
       "      <td>2</td>\n",
       "      <td>27</td>\n",
       "    </tr>\n",
       "    <tr>\n",
       "      <th>1281857</th>\n",
       "      <td>2019-05-12</td>\n",
       "      <td>235 días de mercado bajista en el #Bitcoin han...</td>\n",
       "      <td>0</td>\n",
       "      <td>150</td>\n",
       "      <td>días</td>\n",
       "      <td>8</td>\n",
       "      <td>2</td>\n",
       "      <td>1</td>\n",
       "      <td>0</td>\n",
       "      <td>0</td>\n",
       "      <td>[bitcoin]</td>\n",
       "      <td>[]</td>\n",
       "      <td>235 días de mercado bajista en el  han sido bo...</td>\n",
       "      <td>2019</td>\n",
       "      <td>5</td>\n",
       "      <td>12</td>\n",
       "    </tr>\n",
       "    <tr>\n",
       "      <th>18619146</th>\n",
       "      <td>2019-11-11</td>\n",
       "      <td>CoinDesk: \"Interested in alpha strategies for ...</td>\n",
       "      <td>0</td>\n",
       "      <td>272</td>\n",
       "      <td>strategies</td>\n",
       "      <td>11</td>\n",
       "      <td>2</td>\n",
       "      <td>1</td>\n",
       "      <td>0</td>\n",
       "      <td>0</td>\n",
       "      <td>[investnyc]</td>\n",
       "      <td>[]</td>\n",
       "      <td>coindesk: \"interested in alpha strategies for ...</td>\n",
       "      <td>2019</td>\n",
       "      <td>11</td>\n",
       "      <td>11</td>\n",
       "    </tr>\n",
       "  </tbody>\n",
       "</table>\n",
       "</div>"
      ],
      "text/plain": [
       "               Date                                               text  \\\n",
       "11595545 2019-07-26              $dylandavii99 https://t.co/KNMuW2rf2F   \n",
       "2932720  2018-08-03                                     @Bitcoin_Stats   \n",
       "5064400  2016-02-27  Making Bitcoin Theft Impossible With The Undo ...   \n",
       "1281857  2019-05-12  235 días de mercado bajista en el #Bitcoin han...   \n",
       "18619146 2019-11-11  CoinDesk: \"Interested in alpha strategies for ...   \n",
       "\n",
       "          Sentiment  Conteo            Moda  Max  Min  Ntags  Nmentions  \\\n",
       "11595545          0      37   $dylandavii99   23   13      0          0   \n",
       "2932720           0      14  @Bitcoin_Stats   14   14      0          0   \n",
       "5064400           2     278          Making  225    3      0          0   \n",
       "1281857           0     150            días    8    2      1          0   \n",
       "18619146          0     272      strategies   11    2      1          0   \n",
       "\n",
       "          Nurls         tags         mentions  \\\n",
       "11595545      1           []               []   \n",
       "2932720       0           []  [bitcoin_stats]   \n",
       "5064400       2           []               []   \n",
       "1281857       0    [bitcoin]               []   \n",
       "18619146      0  [investnyc]               []   \n",
       "\n",
       "                                                    newText  year  month  day  \n",
       "11595545                                     $dylandavii99   2019      7   26  \n",
       "2932720                                                      2018      8    3  \n",
       "5064400   making bitcoin theft impossible with the undo ...  2016      2   27  \n",
       "1281857   235 días de mercado bajista en el  han sido bo...  2019      5   12  \n",
       "18619146  coindesk: \"interested in alpha strategies for ...  2019     11   11  "
      ]
     },
     "execution_count": 46,
     "metadata": {},
     "output_type": "execute_result"
    }
   ],
   "source": [
    "datos.head()"
   ]
  },
  {
   "cell_type": "markdown",
   "metadata": {},
   "source": [
    "### Traducir"
   ]
  },
  {
   "cell_type": "code",
   "execution_count": 47,
   "metadata": {},
   "outputs": [],
   "source": [
    "# for l in languages:\n",
    "#     translator= Translator(to_lang='en', from_lang=l)\n",
    "#     datos.loc[datos['lang']==l]['newText'] = datos.loc[datos['lang']==l]['newText'].apply(lambda x: translator.translate(x))"
   ]
  },
  {
   "cell_type": "code",
   "execution_count": 48,
   "metadata": {},
   "outputs": [],
   "source": [
    "# translator= Translator(to_lang='en', from_lang='ja')\n",
    "# a = datos.loc[datos['lang']=='ja']['newText'].iloc[0]\n",
    "# translator.translate(a)"
   ]
  },
  {
   "cell_type": "code",
   "execution_count": 49,
   "metadata": {
    "id": "aMSKH8WhC92Z",
    "outputId": "40f8382f-70fe-4e68-9187-938a9927aa23"
   },
   "outputs": [],
   "source": [
    "# try:\n",
    "#     _create_unverified_https_context = ssl._create_unverified_context\n",
    "# except AttributeError:\n",
    "#     pass\n",
    "# else:\n",
    "#     ssl._create_default_https_context = _create_unverified_https_context\n",
    "# nltk.download('stopwords')"
   ]
  },
  {
   "cell_type": "markdown",
   "metadata": {
    "id": "uHAUK2HsC92a"
   },
   "source": [
    "### StopWords"
   ]
  },
  {
   "cell_type": "code",
   "execution_count": 50,
   "metadata": {
    "id": "bg-8uWNfC92a"
   },
   "outputs": [],
   "source": [
    "languages = ['ar',\n",
    "  'ca',\n",
    "  'cs',\n",
    "  'de',\n",
    "  'el',\n",
    "  'en',\n",
    "  'es',\n",
    "  'fi',\n",
    "  'fr',\n",
    "  'hu',\n",
    "  'it',\n",
    "  'ja',\n",
    "  'kr',\n",
    "  'nl',\n",
    "  'no',\n",
    "  'pl',\n",
    "  'pt',\n",
    "  'ru',\n",
    "  'sk',\n",
    "  'sv',\n",
    "  'tr',\n",
    "  'zh']\n",
    "\n",
    "stop_words = []\n",
    "for i in languages:\n",
    "    stop_words = stop_words + list(many_stop_words.get_stop_words(i))\n",
    "stop_words.append('\\'')\n",
    "stop_words.append('`')\n",
    "stop_words.append('’')\n",
    "stop_words.append('‘')"
   ]
  },
  {
   "cell_type": "code",
   "execution_count": null,
   "metadata": {
    "id": "e0OdO0aXC92a",
    "outputId": "45ac1d44-0a00-4906-9968-86009f1287ed"
   },
   "outputs": [],
   "source": []
  },
  {
   "cell_type": "code",
   "execution_count": 51,
   "metadata": {
    "id": "PUG53nekC92a",
    "outputId": "a51e0116-71b0-4303-db73-34f3ef76a421"
   },
   "outputs": [
    {
     "name": "stderr",
     "output_type": "stream",
     "text": [
      "[nltk_data] Downloading package punkt to /Users/diego/nltk_data...\n",
      "[nltk_data]   Package punkt is already up-to-date!\n"
     ]
    },
    {
     "data": {
      "text/plain": [
       "True"
      ]
     },
     "execution_count": 51,
     "metadata": {},
     "output_type": "execute_result"
    }
   ],
   "source": [
    "nltk.download('punkt')"
   ]
  },
  {
   "cell_type": "code",
   "execution_count": 52,
   "metadata": {
    "id": "cGDZ_JeoC92a"
   },
   "outputs": [],
   "source": [
    "ps = PorterStemmer()\n",
    "corpus = []\n",
    "stemmed_phrase = []\n",
    "for i in datos[\"newText\"]:\n",
    "    new = emoji.get_emoji_regexp().sub(\" \", i)\n",
    "    new = new.lower()\n",
    "    new = nltk.word_tokenize(new)\n",
    "    stemmed = [ps.stem(i) for i in new if i not in stop_words]\n",
    "    stemmed = ' '.join(stemmed)\n",
    "    corpus.append(new)\n",
    "    stemmed_phrase.append(stemmed)\n",
    "    \n",
    "datos[\"Tokens\"] = corpus\n",
    "datos[\"Stemmed\"] = stemmed_phrase\n"
   ]
  },
  {
   "cell_type": "code",
   "execution_count": 53,
   "metadata": {
    "id": "HdqVexFTC92a"
   },
   "outputs": [],
   "source": [
    "datos[\"TagsText\"] = datos[\"tags\"].apply(lambda x: ' '.join(map(str, x)))\n",
    "datos[\"MentionsText\"] = datos[\"mentions\"].apply(lambda x: ' '.join(map(str, x)))"
   ]
  },
  {
   "cell_type": "code",
   "execution_count": 54,
   "metadata": {
    "id": "EdFw0eGYC92a",
    "outputId": "f432baac-2abe-4321-af06-d2d1ad7d7793"
   },
   "outputs": [
    {
     "data": {
      "text/html": [
       "<div>\n",
       "<style scoped>\n",
       "    .dataframe tbody tr th:only-of-type {\n",
       "        vertical-align: middle;\n",
       "    }\n",
       "\n",
       "    .dataframe tbody tr th {\n",
       "        vertical-align: top;\n",
       "    }\n",
       "\n",
       "    .dataframe thead th {\n",
       "        text-align: right;\n",
       "    }\n",
       "</style>\n",
       "<table border=\"1\" class=\"dataframe\">\n",
       "  <thead>\n",
       "    <tr style=\"text-align: right;\">\n",
       "      <th></th>\n",
       "      <th>Date</th>\n",
       "      <th>text</th>\n",
       "      <th>Sentiment</th>\n",
       "      <th>Conteo</th>\n",
       "      <th>Moda</th>\n",
       "      <th>Max</th>\n",
       "      <th>Min</th>\n",
       "      <th>Ntags</th>\n",
       "      <th>Nmentions</th>\n",
       "      <th>Nurls</th>\n",
       "      <th>tags</th>\n",
       "      <th>mentions</th>\n",
       "      <th>newText</th>\n",
       "      <th>year</th>\n",
       "      <th>month</th>\n",
       "      <th>day</th>\n",
       "      <th>Tokens</th>\n",
       "      <th>Stemmed</th>\n",
       "      <th>TagsText</th>\n",
       "      <th>MentionsText</th>\n",
       "    </tr>\n",
       "  </thead>\n",
       "  <tbody>\n",
       "    <tr>\n",
       "      <th>11595545</th>\n",
       "      <td>2019-07-26</td>\n",
       "      <td>$dylandavii99 https://t.co/KNMuW2rf2F</td>\n",
       "      <td>0</td>\n",
       "      <td>37</td>\n",
       "      <td>$dylandavii99</td>\n",
       "      <td>23</td>\n",
       "      <td>13</td>\n",
       "      <td>0</td>\n",
       "      <td>0</td>\n",
       "      <td>1</td>\n",
       "      <td>[]</td>\n",
       "      <td>[]</td>\n",
       "      <td>$dylandavii99</td>\n",
       "      <td>2019</td>\n",
       "      <td>7</td>\n",
       "      <td>26</td>\n",
       "      <td>[$, dylandavii99]</td>\n",
       "      <td>$ dylandavii99</td>\n",
       "      <td></td>\n",
       "      <td></td>\n",
       "    </tr>\n",
       "    <tr>\n",
       "      <th>2932720</th>\n",
       "      <td>2018-08-03</td>\n",
       "      <td>@Bitcoin_Stats</td>\n",
       "      <td>0</td>\n",
       "      <td>14</td>\n",
       "      <td>@Bitcoin_Stats</td>\n",
       "      <td>14</td>\n",
       "      <td>14</td>\n",
       "      <td>0</td>\n",
       "      <td>0</td>\n",
       "      <td>0</td>\n",
       "      <td>[]</td>\n",
       "      <td>[bitcoin_stats]</td>\n",
       "      <td></td>\n",
       "      <td>2018</td>\n",
       "      <td>8</td>\n",
       "      <td>3</td>\n",
       "      <td>[]</td>\n",
       "      <td></td>\n",
       "      <td></td>\n",
       "      <td>bitcoin_stats</td>\n",
       "    </tr>\n",
       "    <tr>\n",
       "      <th>5064400</th>\n",
       "      <td>2016-02-27</td>\n",
       "      <td>Making Bitcoin Theft Impossible With The Undo ...</td>\n",
       "      <td>2</td>\n",
       "      <td>278</td>\n",
       "      <td>Making</td>\n",
       "      <td>225</td>\n",
       "      <td>3</td>\n",
       "      <td>0</td>\n",
       "      <td>0</td>\n",
       "      <td>2</td>\n",
       "      <td>[]</td>\n",
       "      <td>[]</td>\n",
       "      <td>making bitcoin theft impossible with the undo ...</td>\n",
       "      <td>2016</td>\n",
       "      <td>2</td>\n",
       "      <td>27</td>\n",
       "      <td>[making, bitcoin, theft, impossible, with, the...</td>\n",
       "      <td>make bitcoin theft imposs undo button</td>\n",
       "      <td></td>\n",
       "      <td></td>\n",
       "    </tr>\n",
       "    <tr>\n",
       "      <th>1281857</th>\n",
       "      <td>2019-05-12</td>\n",
       "      <td>235 días de mercado bajista en el #Bitcoin han...</td>\n",
       "      <td>0</td>\n",
       "      <td>150</td>\n",
       "      <td>días</td>\n",
       "      <td>8</td>\n",
       "      <td>2</td>\n",
       "      <td>1</td>\n",
       "      <td>0</td>\n",
       "      <td>0</td>\n",
       "      <td>[bitcoin]</td>\n",
       "      <td>[]</td>\n",
       "      <td>235 días de mercado bajista en el  han sido bo...</td>\n",
       "      <td>2019</td>\n",
       "      <td>5</td>\n",
       "      <td>12</td>\n",
       "      <td>[235, días, de, mercado, bajista, en, el, han,...</td>\n",
       "      <td>235 día mercado bajista borrado último 40 día ...</td>\n",
       "      <td>bitcoin</td>\n",
       "      <td></td>\n",
       "    </tr>\n",
       "    <tr>\n",
       "      <th>18619146</th>\n",
       "      <td>2019-11-11</td>\n",
       "      <td>CoinDesk: \"Interested in alpha strategies for ...</td>\n",
       "      <td>0</td>\n",
       "      <td>272</td>\n",
       "      <td>strategies</td>\n",
       "      <td>11</td>\n",
       "      <td>2</td>\n",
       "      <td>1</td>\n",
       "      <td>0</td>\n",
       "      <td>0</td>\n",
       "      <td>[investnyc]</td>\n",
       "      <td>[]</td>\n",
       "      <td>coindesk: \"interested in alpha strategies for ...</td>\n",
       "      <td>2019</td>\n",
       "      <td>11</td>\n",
       "      <td>11</td>\n",
       "      <td>[coindesk, :, ``, interested, in, alpha, strat...</td>\n",
       "      <td>coindesk : `` interest alpha strategi 2020 ? t...</td>\n",
       "      <td>investnyc</td>\n",
       "      <td></td>\n",
       "    </tr>\n",
       "    <tr>\n",
       "      <th>9119246</th>\n",
       "      <td>2019-07-06</td>\n",
       "      <td>The Paxful community is evolving crypto securi...</td>\n",
       "      <td>2</td>\n",
       "      <td>225</td>\n",
       "      <td>Paxful</td>\n",
       "      <td>11</td>\n",
       "      <td>1</td>\n",
       "      <td>2</td>\n",
       "      <td>0</td>\n",
       "      <td>0</td>\n",
       "      <td>[kenya, p2pfinance]</td>\n",
       "      <td>[]</td>\n",
       "      <td>the paxful community is evolving crypto securi...</td>\n",
       "      <td>2019</td>\n",
       "      <td>7</td>\n",
       "      <td>6</td>\n",
       "      <td>[the, paxful, community, is, evolving, crypto,...</td>\n",
       "      <td>pax commun evolv crypto secur individu level ....</td>\n",
       "      <td>kenya p2pfinance</td>\n",
       "      <td></td>\n",
       "    </tr>\n",
       "    <tr>\n",
       "      <th>13683018</th>\n",
       "      <td>2019-08-25</td>\n",
       "      <td>The latest The blockchain fintech Daily! https...</td>\n",
       "      <td>0</td>\n",
       "      <td>117</td>\n",
       "      <td>The</td>\n",
       "      <td>23</td>\n",
       "      <td>2</td>\n",
       "      <td>2</td>\n",
       "      <td>2</td>\n",
       "      <td>1</td>\n",
       "      <td>[bitcoin, ai]</td>\n",
       "      <td>[therudingroup, lord_ssemanda]</td>\n",
       "      <td>the latest the blockchain fintech daily!  than...</td>\n",
       "      <td>2019</td>\n",
       "      <td>8</td>\n",
       "      <td>25</td>\n",
       "      <td>[the, latest, the, blockchain, fintech, daily,...</td>\n",
       "      <td>latest blockchain fintech daili !</td>\n",
       "      <td>bitcoin ai</td>\n",
       "      <td>therudingroup lord_ssemanda</td>\n",
       "    </tr>\n",
       "    <tr>\n",
       "      <th>3104350</th>\n",
       "      <td>2018-08-03</td>\n",
       "      <td>@Bitcoin_price_8</td>\n",
       "      <td>0</td>\n",
       "      <td>16</td>\n",
       "      <td>@Bitcoin_price_8</td>\n",
       "      <td>16</td>\n",
       "      <td>16</td>\n",
       "      <td>0</td>\n",
       "      <td>0</td>\n",
       "      <td>0</td>\n",
       "      <td>[]</td>\n",
       "      <td>[bitcoin_price_8]</td>\n",
       "      <td></td>\n",
       "      <td>2018</td>\n",
       "      <td>8</td>\n",
       "      <td>3</td>\n",
       "      <td>[]</td>\n",
       "      <td></td>\n",
       "      <td></td>\n",
       "      <td>bitcoin_price_8</td>\n",
       "    </tr>\n",
       "    <tr>\n",
       "      <th>1755189</th>\n",
       "      <td>2017-10-11</td>\n",
       "      <td>#Putin Tells Central Bank Not to Create  Barri...</td>\n",
       "      <td>2</td>\n",
       "      <td>70</td>\n",
       "      <td>to</td>\n",
       "      <td>17</td>\n",
       "      <td>0</td>\n",
       "      <td>1</td>\n",
       "      <td>0</td>\n",
       "      <td>0</td>\n",
       "      <td>[putin, cryptocurrencies]</td>\n",
       "      <td>[]</td>\n",
       "      <td>tells central bank not to create  barriers to</td>\n",
       "      <td>2017</td>\n",
       "      <td>10</td>\n",
       "      <td>11</td>\n",
       "      <td>[tells, central, bank, not, to, create, barrie...</td>\n",
       "      <td>tell central bank creat barrier</td>\n",
       "      <td>putin cryptocurrencies</td>\n",
       "      <td></td>\n",
       "    </tr>\n",
       "    <tr>\n",
       "      <th>13786512</th>\n",
       "      <td>2019-08-27</td>\n",
       "      <td>VMWare CEO Gelsinger Condemns #Bitcoin as Bad ...</td>\n",
       "      <td>0</td>\n",
       "      <td>95</td>\n",
       "      <td>Bad</td>\n",
       "      <td>33</td>\n",
       "      <td>2</td>\n",
       "      <td>1</td>\n",
       "      <td>0</td>\n",
       "      <td>1</td>\n",
       "      <td>[bitcoin]</td>\n",
       "      <td>[]</td>\n",
       "      <td>vmware ceo gelsinger condemns  as bad design, ...</td>\n",
       "      <td>2019</td>\n",
       "      <td>8</td>\n",
       "      <td>27</td>\n",
       "      <td>[vmware, ceo, gelsinger, condemns, as, bad, de...</td>\n",
       "      <td>vmware ceo gelsing condemn bad , bad human</td>\n",
       "      <td>bitcoin</td>\n",
       "      <td></td>\n",
       "    </tr>\n",
       "  </tbody>\n",
       "</table>\n",
       "</div>"
      ],
      "text/plain": [
       "               Date                                               text  \\\n",
       "11595545 2019-07-26              $dylandavii99 https://t.co/KNMuW2rf2F   \n",
       "2932720  2018-08-03                                     @Bitcoin_Stats   \n",
       "5064400  2016-02-27  Making Bitcoin Theft Impossible With The Undo ...   \n",
       "1281857  2019-05-12  235 días de mercado bajista en el #Bitcoin han...   \n",
       "18619146 2019-11-11  CoinDesk: \"Interested in alpha strategies for ...   \n",
       "9119246  2019-07-06  The Paxful community is evolving crypto securi...   \n",
       "13683018 2019-08-25  The latest The blockchain fintech Daily! https...   \n",
       "3104350  2018-08-03                                   @Bitcoin_price_8   \n",
       "1755189  2017-10-11  #Putin Tells Central Bank Not to Create  Barri...   \n",
       "13786512 2019-08-27  VMWare CEO Gelsinger Condemns #Bitcoin as Bad ...   \n",
       "\n",
       "          Sentiment  Conteo              Moda  Max  Min  Ntags  Nmentions  \\\n",
       "11595545          0      37     $dylandavii99   23   13      0          0   \n",
       "2932720           0      14    @Bitcoin_Stats   14   14      0          0   \n",
       "5064400           2     278            Making  225    3      0          0   \n",
       "1281857           0     150              días    8    2      1          0   \n",
       "18619146          0     272        strategies   11    2      1          0   \n",
       "9119246           2     225            Paxful   11    1      2          0   \n",
       "13683018          0     117               The   23    2      2          2   \n",
       "3104350           0      16  @Bitcoin_price_8   16   16      0          0   \n",
       "1755189           2      70                to   17    0      1          0   \n",
       "13786512          0      95               Bad   33    2      1          0   \n",
       "\n",
       "          Nurls                       tags                        mentions  \\\n",
       "11595545      1                         []                              []   \n",
       "2932720       0                         []                 [bitcoin_stats]   \n",
       "5064400       2                         []                              []   \n",
       "1281857       0                  [bitcoin]                              []   \n",
       "18619146      0                [investnyc]                              []   \n",
       "9119246       0        [kenya, p2pfinance]                              []   \n",
       "13683018      1              [bitcoin, ai]  [therudingroup, lord_ssemanda]   \n",
       "3104350       0                         []               [bitcoin_price_8]   \n",
       "1755189       0  [putin, cryptocurrencies]                              []   \n",
       "13786512      1                  [bitcoin]                              []   \n",
       "\n",
       "                                                    newText  year  month  day  \\\n",
       "11595545                                     $dylandavii99   2019      7   26   \n",
       "2932720                                                      2018      8    3   \n",
       "5064400   making bitcoin theft impossible with the undo ...  2016      2   27   \n",
       "1281857   235 días de mercado bajista en el  han sido bo...  2019      5   12   \n",
       "18619146  coindesk: \"interested in alpha strategies for ...  2019     11   11   \n",
       "9119246   the paxful community is evolving crypto securi...  2019      7    6   \n",
       "13683018  the latest the blockchain fintech daily!  than...  2019      8   25   \n",
       "3104350                                                      2018      8    3   \n",
       "1755189      tells central bank not to create  barriers to   2017     10   11   \n",
       "13786512  vmware ceo gelsinger condemns  as bad design, ...  2019      8   27   \n",
       "\n",
       "                                                     Tokens  \\\n",
       "11595545                                  [$, dylandavii99]   \n",
       "2932720                                                  []   \n",
       "5064400   [making, bitcoin, theft, impossible, with, the...   \n",
       "1281857   [235, días, de, mercado, bajista, en, el, han,...   \n",
       "18619146  [coindesk, :, ``, interested, in, alpha, strat...   \n",
       "9119246   [the, paxful, community, is, evolving, crypto,...   \n",
       "13683018  [the, latest, the, blockchain, fintech, daily,...   \n",
       "3104350                                                  []   \n",
       "1755189   [tells, central, bank, not, to, create, barrie...   \n",
       "13786512  [vmware, ceo, gelsinger, condemns, as, bad, de...   \n",
       "\n",
       "                                                    Stemmed  \\\n",
       "11595545                                     $ dylandavii99   \n",
       "2932720                                                       \n",
       "5064400               make bitcoin theft imposs undo button   \n",
       "1281857   235 día mercado bajista borrado último 40 día ...   \n",
       "18619146  coindesk : `` interest alpha strategi 2020 ? t...   \n",
       "9119246   pax commun evolv crypto secur individu level ....   \n",
       "13683018                  latest blockchain fintech daili !   \n",
       "3104350                                                       \n",
       "1755189                     tell central bank creat barrier   \n",
       "13786512         vmware ceo gelsing condemn bad , bad human   \n",
       "\n",
       "                        TagsText                 MentionsText  \n",
       "11595545                                                       \n",
       "2932720                                         bitcoin_stats  \n",
       "5064400                                                        \n",
       "1281857                  bitcoin                               \n",
       "18619146               investnyc                               \n",
       "9119246         kenya p2pfinance                               \n",
       "13683018              bitcoin ai  therudingroup lord_ssemanda  \n",
       "3104350                                       bitcoin_price_8  \n",
       "1755189   putin cryptocurrencies                               \n",
       "13786512                 bitcoin                               "
      ]
     },
     "execution_count": 54,
     "metadata": {},
     "output_type": "execute_result"
    }
   ],
   "source": [
    "datos.head(10)"
   ]
  },
  {
   "cell_type": "code",
   "execution_count": 55,
   "metadata": {},
   "outputs": [],
   "source": [
    "# pasar a csv antes de vectorizar\n",
    "datos.to_csv('antes_vecorizer.csv')"
   ]
  },
  {
   "cell_type": "code",
   "execution_count": 56,
   "metadata": {
    "id": "D6crlVu1C92b"
   },
   "outputs": [],
   "source": [
    "stemmed_data = datos[\"Stemmed\"] "
   ]
  },
  {
   "cell_type": "code",
   "execution_count": 57,
   "metadata": {
    "id": "LubDRd5zC92b",
    "outputId": "2d2cc805-f3cd-4168-9b32-31610cb1db30"
   },
   "outputs": [
    {
     "name": "stdout",
     "output_type": "stream",
     "text": [
      "(11487, 21874)\n"
     ]
    }
   ],
   "source": [
    "stemmed_text_vectorizer = TfidfVectorizer(binary=True)\n",
    "stemmed_data = stemmed_text_vectorizer.fit_transform(datos[\"Stemmed\"] )\n",
    "print(stemmed_data.shape)\n",
    "df_stemmed = pd.DataFrame(stemmed_data.toarray())"
   ]
  },
  {
   "cell_type": "code",
   "execution_count": 58,
   "metadata": {
    "id": "0ppkvMiSC92b",
    "outputId": "b9738a5a-d531-4744-a290-a6509fa2a7ff"
   },
   "outputs": [
    {
     "name": "stdout",
     "output_type": "stream",
     "text": [
      "(11487, 5120)\n"
     ]
    }
   ],
   "source": [
    "tags_text_vectorizer = CountVectorizer(binary=True)\n",
    "tags_data = tags_text_vectorizer.fit_transform(datos[\"TagsText\"])\n",
    "print(tags_data.shape)\n",
    "df_tags = pd.DataFrame(tags_data.toarray())"
   ]
  },
  {
   "cell_type": "code",
   "execution_count": 59,
   "metadata": {
    "id": "TwhS3oxzC92b",
    "outputId": "92a8c323-45d1-4e48-dd3b-be5deca395a8"
   },
   "outputs": [
    {
     "name": "stdout",
     "output_type": "stream",
     "text": [
      "(11487, 3224)\n"
     ]
    }
   ],
   "source": [
    "mentions_text_vectorizer = CountVectorizer(binary=True)\n",
    "mentions_data = tags_text_vectorizer.fit_transform(datos[\"MentionsText\"])\n",
    "print(mentions_data.shape)\n",
    "df_mentions = pd.DataFrame(mentions_data.toarray())"
   ]
  },
  {
   "cell_type": "code",
   "execution_count": 60,
   "metadata": {
    "id": "1osONgOpC92b"
   },
   "outputs": [],
   "source": [
    "# Se concatenan todas las columnas con datos numéricos\n",
    "X = pd.concat([datos[[\"Conteo\", \"Max\", \"Min\", \"Ntags\", \"Nmentions\", \"Nurls\", \"year\", \"month\", \"day\"]].reset_index(drop=True), df_tags, df_mentions], axis=1)\n",
    "Y = datos[\"Sentiment\"].reset_index(drop=True)"
   ]
  },
  {
   "cell_type": "code",
   "execution_count": 61,
   "metadata": {
    "id": "GssnzXzgC92b",
    "outputId": "b1d7776a-87be-4934-d3d3-2b341cbee7d4"
   },
   "outputs": [
    {
     "data": {
      "text/html": [
       "<div>\n",
       "<style scoped>\n",
       "    .dataframe tbody tr th:only-of-type {\n",
       "        vertical-align: middle;\n",
       "    }\n",
       "\n",
       "    .dataframe tbody tr th {\n",
       "        vertical-align: top;\n",
       "    }\n",
       "\n",
       "    .dataframe thead th {\n",
       "        text-align: right;\n",
       "    }\n",
       "</style>\n",
       "<table border=\"1\" class=\"dataframe\">\n",
       "  <thead>\n",
       "    <tr style=\"text-align: right;\">\n",
       "      <th></th>\n",
       "      <th>Conteo</th>\n",
       "      <th>Max</th>\n",
       "      <th>Min</th>\n",
       "      <th>Ntags</th>\n",
       "      <th>Nmentions</th>\n",
       "      <th>Nurls</th>\n",
       "      <th>year</th>\n",
       "      <th>month</th>\n",
       "      <th>day</th>\n",
       "      <th>0</th>\n",
       "      <th>...</th>\n",
       "      <th>3214</th>\n",
       "      <th>3215</th>\n",
       "      <th>3216</th>\n",
       "      <th>3217</th>\n",
       "      <th>3218</th>\n",
       "      <th>3219</th>\n",
       "      <th>3220</th>\n",
       "      <th>3221</th>\n",
       "      <th>3222</th>\n",
       "      <th>3223</th>\n",
       "    </tr>\n",
       "  </thead>\n",
       "  <tbody>\n",
       "    <tr>\n",
       "      <th>0</th>\n",
       "      <td>37</td>\n",
       "      <td>23</td>\n",
       "      <td>13</td>\n",
       "      <td>0</td>\n",
       "      <td>0</td>\n",
       "      <td>1</td>\n",
       "      <td>2019</td>\n",
       "      <td>7</td>\n",
       "      <td>26</td>\n",
       "      <td>0</td>\n",
       "      <td>...</td>\n",
       "      <td>0</td>\n",
       "      <td>0</td>\n",
       "      <td>0</td>\n",
       "      <td>0</td>\n",
       "      <td>0</td>\n",
       "      <td>0</td>\n",
       "      <td>0</td>\n",
       "      <td>0</td>\n",
       "      <td>0</td>\n",
       "      <td>0</td>\n",
       "    </tr>\n",
       "    <tr>\n",
       "      <th>1</th>\n",
       "      <td>14</td>\n",
       "      <td>14</td>\n",
       "      <td>14</td>\n",
       "      <td>0</td>\n",
       "      <td>0</td>\n",
       "      <td>0</td>\n",
       "      <td>2018</td>\n",
       "      <td>8</td>\n",
       "      <td>3</td>\n",
       "      <td>0</td>\n",
       "      <td>...</td>\n",
       "      <td>0</td>\n",
       "      <td>0</td>\n",
       "      <td>0</td>\n",
       "      <td>0</td>\n",
       "      <td>0</td>\n",
       "      <td>0</td>\n",
       "      <td>0</td>\n",
       "      <td>0</td>\n",
       "      <td>0</td>\n",
       "      <td>0</td>\n",
       "    </tr>\n",
       "    <tr>\n",
       "      <th>2</th>\n",
       "      <td>278</td>\n",
       "      <td>225</td>\n",
       "      <td>3</td>\n",
       "      <td>0</td>\n",
       "      <td>0</td>\n",
       "      <td>2</td>\n",
       "      <td>2016</td>\n",
       "      <td>2</td>\n",
       "      <td>27</td>\n",
       "      <td>0</td>\n",
       "      <td>...</td>\n",
       "      <td>0</td>\n",
       "      <td>0</td>\n",
       "      <td>0</td>\n",
       "      <td>0</td>\n",
       "      <td>0</td>\n",
       "      <td>0</td>\n",
       "      <td>0</td>\n",
       "      <td>0</td>\n",
       "      <td>0</td>\n",
       "      <td>0</td>\n",
       "    </tr>\n",
       "    <tr>\n",
       "      <th>3</th>\n",
       "      <td>150</td>\n",
       "      <td>8</td>\n",
       "      <td>2</td>\n",
       "      <td>1</td>\n",
       "      <td>0</td>\n",
       "      <td>0</td>\n",
       "      <td>2019</td>\n",
       "      <td>5</td>\n",
       "      <td>12</td>\n",
       "      <td>0</td>\n",
       "      <td>...</td>\n",
       "      <td>0</td>\n",
       "      <td>0</td>\n",
       "      <td>0</td>\n",
       "      <td>0</td>\n",
       "      <td>0</td>\n",
       "      <td>0</td>\n",
       "      <td>0</td>\n",
       "      <td>0</td>\n",
       "      <td>0</td>\n",
       "      <td>0</td>\n",
       "    </tr>\n",
       "    <tr>\n",
       "      <th>4</th>\n",
       "      <td>272</td>\n",
       "      <td>11</td>\n",
       "      <td>2</td>\n",
       "      <td>1</td>\n",
       "      <td>0</td>\n",
       "      <td>0</td>\n",
       "      <td>2019</td>\n",
       "      <td>11</td>\n",
       "      <td>11</td>\n",
       "      <td>0</td>\n",
       "      <td>...</td>\n",
       "      <td>0</td>\n",
       "      <td>0</td>\n",
       "      <td>0</td>\n",
       "      <td>0</td>\n",
       "      <td>0</td>\n",
       "      <td>0</td>\n",
       "      <td>0</td>\n",
       "      <td>0</td>\n",
       "      <td>0</td>\n",
       "      <td>0</td>\n",
       "    </tr>\n",
       "    <tr>\n",
       "      <th>...</th>\n",
       "      <td>...</td>\n",
       "      <td>...</td>\n",
       "      <td>...</td>\n",
       "      <td>...</td>\n",
       "      <td>...</td>\n",
       "      <td>...</td>\n",
       "      <td>...</td>\n",
       "      <td>...</td>\n",
       "      <td>...</td>\n",
       "      <td>...</td>\n",
       "      <td>...</td>\n",
       "      <td>...</td>\n",
       "      <td>...</td>\n",
       "      <td>...</td>\n",
       "      <td>...</td>\n",
       "      <td>...</td>\n",
       "      <td>...</td>\n",
       "      <td>...</td>\n",
       "      <td>...</td>\n",
       "      <td>...</td>\n",
       "      <td>...</td>\n",
       "    </tr>\n",
       "    <tr>\n",
       "      <th>11482</th>\n",
       "      <td>119</td>\n",
       "      <td>12</td>\n",
       "      <td>1</td>\n",
       "      <td>0</td>\n",
       "      <td>0</td>\n",
       "      <td>0</td>\n",
       "      <td>2019</td>\n",
       "      <td>9</td>\n",
       "      <td>7</td>\n",
       "      <td>0</td>\n",
       "      <td>...</td>\n",
       "      <td>0</td>\n",
       "      <td>0</td>\n",
       "      <td>0</td>\n",
       "      <td>0</td>\n",
       "      <td>0</td>\n",
       "      <td>0</td>\n",
       "      <td>0</td>\n",
       "      <td>0</td>\n",
       "      <td>0</td>\n",
       "      <td>0</td>\n",
       "    </tr>\n",
       "    <tr>\n",
       "      <th>11483</th>\n",
       "      <td>177</td>\n",
       "      <td>13</td>\n",
       "      <td>0</td>\n",
       "      <td>0</td>\n",
       "      <td>0</td>\n",
       "      <td>0</td>\n",
       "      <td>2019</td>\n",
       "      <td>7</td>\n",
       "      <td>3</td>\n",
       "      <td>0</td>\n",
       "      <td>...</td>\n",
       "      <td>0</td>\n",
       "      <td>0</td>\n",
       "      <td>0</td>\n",
       "      <td>0</td>\n",
       "      <td>0</td>\n",
       "      <td>0</td>\n",
       "      <td>0</td>\n",
       "      <td>0</td>\n",
       "      <td>0</td>\n",
       "      <td>0</td>\n",
       "    </tr>\n",
       "    <tr>\n",
       "      <th>11484</th>\n",
       "      <td>14</td>\n",
       "      <td>14</td>\n",
       "      <td>14</td>\n",
       "      <td>0</td>\n",
       "      <td>0</td>\n",
       "      <td>0</td>\n",
       "      <td>2018</td>\n",
       "      <td>8</td>\n",
       "      <td>3</td>\n",
       "      <td>0</td>\n",
       "      <td>...</td>\n",
       "      <td>0</td>\n",
       "      <td>0</td>\n",
       "      <td>0</td>\n",
       "      <td>0</td>\n",
       "      <td>0</td>\n",
       "      <td>0</td>\n",
       "      <td>0</td>\n",
       "      <td>0</td>\n",
       "      <td>0</td>\n",
       "      <td>0</td>\n",
       "    </tr>\n",
       "    <tr>\n",
       "      <th>11485</th>\n",
       "      <td>234</td>\n",
       "      <td>16</td>\n",
       "      <td>1</td>\n",
       "      <td>0</td>\n",
       "      <td>0</td>\n",
       "      <td>0</td>\n",
       "      <td>2019</td>\n",
       "      <td>10</td>\n",
       "      <td>26</td>\n",
       "      <td>0</td>\n",
       "      <td>...</td>\n",
       "      <td>0</td>\n",
       "      <td>0</td>\n",
       "      <td>0</td>\n",
       "      <td>0</td>\n",
       "      <td>0</td>\n",
       "      <td>0</td>\n",
       "      <td>0</td>\n",
       "      <td>0</td>\n",
       "      <td>0</td>\n",
       "      <td>0</td>\n",
       "    </tr>\n",
       "    <tr>\n",
       "      <th>11486</th>\n",
       "      <td>235</td>\n",
       "      <td>23</td>\n",
       "      <td>0</td>\n",
       "      <td>11</td>\n",
       "      <td>0</td>\n",
       "      <td>1</td>\n",
       "      <td>2019</td>\n",
       "      <td>5</td>\n",
       "      <td>24</td>\n",
       "      <td>0</td>\n",
       "      <td>...</td>\n",
       "      <td>0</td>\n",
       "      <td>0</td>\n",
       "      <td>0</td>\n",
       "      <td>0</td>\n",
       "      <td>0</td>\n",
       "      <td>0</td>\n",
       "      <td>0</td>\n",
       "      <td>0</td>\n",
       "      <td>0</td>\n",
       "      <td>0</td>\n",
       "    </tr>\n",
       "  </tbody>\n",
       "</table>\n",
       "<p>11487 rows × 8353 columns</p>\n",
       "</div>"
      ],
      "text/plain": [
       "       Conteo  Max  Min  Ntags  Nmentions  Nurls  year  month  day  0  ...  \\\n",
       "0          37   23   13      0          0      1  2019      7   26  0  ...   \n",
       "1          14   14   14      0          0      0  2018      8    3  0  ...   \n",
       "2         278  225    3      0          0      2  2016      2   27  0  ...   \n",
       "3         150    8    2      1          0      0  2019      5   12  0  ...   \n",
       "4         272   11    2      1          0      0  2019     11   11  0  ...   \n",
       "...       ...  ...  ...    ...        ...    ...   ...    ...  ... ..  ...   \n",
       "11482     119   12    1      0          0      0  2019      9    7  0  ...   \n",
       "11483     177   13    0      0          0      0  2019      7    3  0  ...   \n",
       "11484      14   14   14      0          0      0  2018      8    3  0  ...   \n",
       "11485     234   16    1      0          0      0  2019     10   26  0  ...   \n",
       "11486     235   23    0     11          0      1  2019      5   24  0  ...   \n",
       "\n",
       "       3214  3215  3216  3217  3218  3219  3220  3221  3222  3223  \n",
       "0         0     0     0     0     0     0     0     0     0     0  \n",
       "1         0     0     0     0     0     0     0     0     0     0  \n",
       "2         0     0     0     0     0     0     0     0     0     0  \n",
       "3         0     0     0     0     0     0     0     0     0     0  \n",
       "4         0     0     0     0     0     0     0     0     0     0  \n",
       "...     ...   ...   ...   ...   ...   ...   ...   ...   ...   ...  \n",
       "11482     0     0     0     0     0     0     0     0     0     0  \n",
       "11483     0     0     0     0     0     0     0     0     0     0  \n",
       "11484     0     0     0     0     0     0     0     0     0     0  \n",
       "11485     0     0     0     0     0     0     0     0     0     0  \n",
       "11486     0     0     0     0     0     0     0     0     0     0  \n",
       "\n",
       "[11487 rows x 8353 columns]"
      ]
     },
     "execution_count": 61,
     "metadata": {},
     "output_type": "execute_result"
    }
   ],
   "source": [
    "X"
   ]
  },
  {
   "cell_type": "code",
   "execution_count": 62,
   "metadata": {
    "id": "CjHhE97XC92b",
    "outputId": "3292346a-6c6e-4032-ad8c-5f83c23f440c"
   },
   "outputs": [
    {
     "data": {
      "text/plain": [
       "0        0\n",
       "1        0\n",
       "2        2\n",
       "3        0\n",
       "4        0\n",
       "        ..\n",
       "11482    2\n",
       "11483    2\n",
       "11484    0\n",
       "11485    2\n",
       "11486    2\n",
       "Name: Sentiment, Length: 11487, dtype: int64"
      ]
     },
     "execution_count": 62,
     "metadata": {},
     "output_type": "execute_result"
    }
   ],
   "source": [
    "Y"
   ]
  },
  {
   "cell_type": "code",
   "execution_count": 63,
   "metadata": {},
   "outputs": [],
   "source": [
    "# despues de vectorizar\n",
    "# x vectorizado\n",
    "X.to_csv(\"x_vectorizado.csv\")\n",
    "Y.to_csv(\"y_vectorizado.csv\")"
   ]
  },
  {
   "cell_type": "markdown",
   "metadata": {
    "id": "xIBLnh8_C92c"
   },
   "source": [
    "## Construcción de modelos"
   ]
  },
  {
   "cell_type": "markdown",
   "metadata": {
    "id": "mgceC6FFC92c"
   },
   "source": [
    "## Arbol de decisión"
   ]
  },
  {
   "cell_type": "code",
   "execution_count": 64,
   "metadata": {
    "id": "0Th2-dheC92c"
   },
   "outputs": [],
   "source": [
    "X_train, X_test, Y_train, Y_test = train_test_split(X, Y, test_size=0.3, random_state=0)"
   ]
  },
  {
   "cell_type": "code",
   "execution_count": 65,
   "metadata": {
    "id": "bydlFXzXC92c"
   },
   "outputs": [],
   "source": [
    "arbol = DecisionTreeClassifier(random_state=0)"
   ]
  },
  {
   "cell_type": "code",
   "execution_count": 66,
   "metadata": {
    "id": "05voNXFKC92c"
   },
   "outputs": [],
   "source": [
    "arbol = arbol.fit(X_train, Y_train)"
   ]
  },
  {
   "cell_type": "code",
   "execution_count": 67,
   "metadata": {
    "id": "LDgkUOhqC92c"
   },
   "outputs": [],
   "source": [
    "y_pred = arbol.predict(X_test)"
   ]
  },
  {
   "cell_type": "code",
   "execution_count": 68,
   "metadata": {
    "id": "4UFXaKB-C92c",
    "outputId": "214c6bf4-95bf-41d2-81b5-2875603b0e7c"
   },
   "outputs": [
    {
     "name": "stdout",
     "output_type": "stream",
     "text": [
      "Exactitud: 0.96\n",
      "Recall: 0.9550333623440673\n",
      "Precisión: 0.9550349434017483\n",
      "Puntuación F1: 0.9550276265640366\n"
     ]
    }
   ],
   "source": [
    "print('Exactitud: %.2f' % accuracy_score(Y_test, y_pred))\n",
    "print(\"Recall: {}\".format(recall_score(Y_test, y_pred, average='weighted')))\n",
    "print(\"Precisión: {}\".format(precision_score(Y_test,y_pred, average='weighted')))\n",
    "print(\"Puntuación F1: {}\".format(f1_score(Y_test,y_pred, average='weighted')))"
   ]
  },
  {
   "cell_type": "code",
   "execution_count": 69,
   "metadata": {
    "id": "AqJLvXKEC92c"
   },
   "outputs": [],
   "source": [
    "# Fijemos el número de particiones. Utilizaremos K = 10.\n",
    "particiones = KFold(n_splits=10, shuffle=True, random_state = 0)\n",
    "# Establecemos el espacio de búsqueda para los hiperparámetros que deseamos ajustar. \n",
    "param_grid = {'criterion':['gini', 'entropy'],'max_depth':[4,6,8,10,20],'min_samples_split':[2, 3, 4, 5]}"
   ]
  },
  {
   "cell_type": "code",
   "execution_count": 70,
   "metadata": {
    "id": "520fH021C92c"
   },
   "outputs": [],
   "source": [
    "# Definimos el modelo sin ningún valor de estos hiperparámetros\n",
    "arbol = DecisionTreeClassifier(random_state=0)"
   ]
  },
  {
   "cell_type": "code",
   "execution_count": 71,
   "metadata": {
    "id": "vYYxovQrC92d",
    "outputId": "d34f08f6-e840-4734-a476-ad2fcc00cdf4"
   },
   "outputs": [
    {
     "data": {
      "text/plain": [
       "GridSearchCV(cv=KFold(n_splits=10, random_state=0, shuffle=True),\n",
       "             estimator=DecisionTreeClassifier(random_state=0),\n",
       "             param_grid={'criterion': ['gini', 'entropy'],\n",
       "                         'max_depth': [4, 6, 8, 10, 20],\n",
       "                         'min_samples_split': [2, 3, 4, 5]})"
      ]
     },
     "execution_count": 71,
     "metadata": {},
     "output_type": "execute_result"
    }
   ],
   "source": [
    "mejor_modelo = GridSearchCV(arbol, param_grid, cv=particiones)\n",
    "# Ajuste del modelo\n",
    "mejor_modelo.fit(X_train, Y_train)"
   ]
  },
  {
   "cell_type": "code",
   "execution_count": 72,
   "metadata": {
    "id": "LHe0k6taC92d",
    "outputId": "072ad7d1-9f62-48d7-dd98-7b200c08cb16"
   },
   "outputs": [
    {
     "data": {
      "text/plain": [
       "{'criterion': 'entropy', 'max_depth': 20, 'min_samples_split': 4}"
      ]
     },
     "execution_count": 72,
     "metadata": {},
     "output_type": "execute_result"
    }
   ],
   "source": [
    "# Podemos ver cuál fue el resultado de la búsqueda (mejores valores de hiperparámetros)\n",
    "mejor_modelo.best_params_"
   ]
  },
  {
   "cell_type": "code",
   "execution_count": 73,
   "metadata": {
    "id": "CsDjIFOtC92d",
    "outputId": "df475f01-7d70-4dea-984c-6f82fcd93d00"
   },
   "outputs": [
    {
     "name": "stdout",
     "output_type": "stream",
     "text": [
      "Exactitud: 0.95\n",
      "Recall: 0.9527125036263417\n",
      "Precisión: 0.952917811503575\n",
      "Puntuación F1: 0.9526797588429843\n"
     ]
    }
   ],
   "source": [
    "y_pred = mejor_modelo.predict(X_test)\n",
    "print('Exactitud: %.2f' % accuracy_score(Y_test, y_pred))\n",
    "print(\"Recall: {}\".format(recall_score(Y_test, y_pred, average='weighted')))\n",
    "print(\"Precisión: {}\".format(precision_score(Y_test,y_pred, average='weighted')))\n",
    "print(\"Puntuación F1: {}\".format(f1_score(Y_test,y_pred, average='weighted')))"
   ]
  },
  {
   "cell_type": "code",
   "execution_count": 74,
   "metadata": {},
   "outputs": [],
   "source": [
    "arbol_final = mejor_modelo.best_estimator_"
   ]
  },
  {
   "cell_type": "code",
   "execution_count": 75,
   "metadata": {},
   "outputs": [
    {
     "data": {
      "text/plain": [
       "['arbol.joblib']"
      ]
     },
     "execution_count": 75,
     "metadata": {},
     "output_type": "execute_result"
    }
   ],
   "source": [
    " # Usamos la lbreria joblib\n",
    "filename = 'arbol.joblib'\n",
    "# Se guarda\n",
    "dump(arbol_final, filename)"
   ]
  },
  {
   "cell_type": "code",
   "execution_count": 76,
   "metadata": {
    "id": "Wto93v3dC92d",
    "outputId": "f981aec0-d09b-4b6d-b5ed-33a495c61e02"
   },
   "outputs": [
    {
     "data": {
      "text/plain": [
       "array([0.04379902, 0.00732548, 0.02134719, ..., 0.        , 0.        ,\n",
       "       0.        ])"
      ]
     },
     "execution_count": 76,
     "metadata": {},
     "output_type": "execute_result"
    }
   ],
   "source": [
    "importancia= mejor_modelo.best_estimator_.feature_importances_\n",
    "importancia"
   ]
  },
  {
   "cell_type": "code",
   "execution_count": 77,
   "metadata": {
    "id": "7El0FrWSC92d",
    "outputId": "5c3256ee-b3c1-49a8-c3af-90a91416cc5f"
   },
   "outputs": [
    {
     "data": {
      "text/html": [
       "<div>\n",
       "<style scoped>\n",
       "    .dataframe tbody tr th:only-of-type {\n",
       "        vertical-align: middle;\n",
       "    }\n",
       "\n",
       "    .dataframe tbody tr th {\n",
       "        vertical-align: top;\n",
       "    }\n",
       "\n",
       "    .dataframe thead th {\n",
       "        text-align: right;\n",
       "    }\n",
       "</style>\n",
       "<table border=\"1\" class=\"dataframe\">\n",
       "  <thead>\n",
       "    <tr style=\"text-align: right;\">\n",
       "      <th></th>\n",
       "      <th>Atributo</th>\n",
       "      <th>Importancia</th>\n",
       "    </tr>\n",
       "  </thead>\n",
       "  <tbody>\n",
       "    <tr>\n",
       "      <th>0</th>\n",
       "      <td>day</td>\n",
       "      <td>0.543236</td>\n",
       "    </tr>\n",
       "    <tr>\n",
       "      <th>1</th>\n",
       "      <td>month</td>\n",
       "      <td>0.255540</td>\n",
       "    </tr>\n",
       "    <tr>\n",
       "      <th>2</th>\n",
       "      <td>year</td>\n",
       "      <td>0.105912</td>\n",
       "    </tr>\n",
       "    <tr>\n",
       "      <th>3</th>\n",
       "      <td>Conteo</td>\n",
       "      <td>0.043799</td>\n",
       "    </tr>\n",
       "    <tr>\n",
       "      <th>4</th>\n",
       "      <td>Min</td>\n",
       "      <td>0.021347</td>\n",
       "    </tr>\n",
       "  </tbody>\n",
       "</table>\n",
       "</div>"
      ],
      "text/plain": [
       "  Atributo  Importancia\n",
       "0      day     0.543236\n",
       "1    month     0.255540\n",
       "2     year     0.105912\n",
       "3   Conteo     0.043799\n",
       "4      Min     0.021347"
      ]
     },
     "execution_count": 77,
     "metadata": {},
     "output_type": "execute_result"
    }
   ],
   "source": [
    "# Se obtiene la importancia de cada uno de los atributos para el resultado del mejor modelo\n",
    "importancia_atributo = pd.DataFrame(data={\"Atributo\": X_train.columns,\"Importancia\": importancia})\n",
    "importancia_atributo = importancia_atributo.sort_values(by='Importancia', ascending=False).reset_index(drop=True)\n",
    "importancia_atributo.head()"
   ]
  },
  {
   "cell_type": "code",
   "execution_count": 78,
   "metadata": {},
   "outputs": [
    {
     "data": {
      "text/html": [
       "<div>\n",
       "<style scoped>\n",
       "    .dataframe tbody tr th:only-of-type {\n",
       "        vertical-align: middle;\n",
       "    }\n",
       "\n",
       "    .dataframe tbody tr th {\n",
       "        vertical-align: top;\n",
       "    }\n",
       "\n",
       "    .dataframe thead th {\n",
       "        text-align: right;\n",
       "    }\n",
       "</style>\n",
       "<table border=\"1\" class=\"dataframe\">\n",
       "  <thead>\n",
       "    <tr style=\"text-align: right;\">\n",
       "      <th></th>\n",
       "      <th>Atributo</th>\n",
       "      <th>Importancia</th>\n",
       "    </tr>\n",
       "  </thead>\n",
       "  <tbody>\n",
       "    <tr>\n",
       "      <th>0</th>\n",
       "      <td>day</td>\n",
       "      <td>0.543236</td>\n",
       "    </tr>\n",
       "    <tr>\n",
       "      <th>1</th>\n",
       "      <td>month</td>\n",
       "      <td>0.255540</td>\n",
       "    </tr>\n",
       "    <tr>\n",
       "      <th>2</th>\n",
       "      <td>year</td>\n",
       "      <td>0.105912</td>\n",
       "    </tr>\n",
       "    <tr>\n",
       "      <th>3</th>\n",
       "      <td>Conteo</td>\n",
       "      <td>0.043799</td>\n",
       "    </tr>\n",
       "    <tr>\n",
       "      <th>4</th>\n",
       "      <td>Min</td>\n",
       "      <td>0.021347</td>\n",
       "    </tr>\n",
       "    <tr>\n",
       "      <th>5</th>\n",
       "      <td>Max</td>\n",
       "      <td>0.007325</td>\n",
       "    </tr>\n",
       "    <tr>\n",
       "      <th>6</th>\n",
       "      <td>Ntags</td>\n",
       "      <td>0.004286</td>\n",
       "    </tr>\n",
       "    <tr>\n",
       "      <th>7</th>\n",
       "      <td>572</td>\n",
       "      <td>0.002539</td>\n",
       "    </tr>\n",
       "    <tr>\n",
       "      <th>8</th>\n",
       "      <td>2641</td>\n",
       "      <td>0.001791</td>\n",
       "    </tr>\n",
       "    <tr>\n",
       "      <th>9</th>\n",
       "      <td>4891</td>\n",
       "      <td>0.001044</td>\n",
       "    </tr>\n",
       "    <tr>\n",
       "      <th>10</th>\n",
       "      <td>3526</td>\n",
       "      <td>0.001035</td>\n",
       "    </tr>\n",
       "    <tr>\n",
       "      <th>11</th>\n",
       "      <td>Nurls</td>\n",
       "      <td>0.000986</td>\n",
       "    </tr>\n",
       "    <tr>\n",
       "      <th>12</th>\n",
       "      <td>1911</td>\n",
       "      <td>0.000977</td>\n",
       "    </tr>\n",
       "    <tr>\n",
       "      <th>13</th>\n",
       "      <td>559</td>\n",
       "      <td>0.000964</td>\n",
       "    </tr>\n",
       "    <tr>\n",
       "      <th>14</th>\n",
       "      <td>1210</td>\n",
       "      <td>0.000914</td>\n",
       "    </tr>\n",
       "  </tbody>\n",
       "</table>\n",
       "</div>"
      ],
      "text/plain": [
       "   Atributo  Importancia\n",
       "0       day     0.543236\n",
       "1     month     0.255540\n",
       "2      year     0.105912\n",
       "3    Conteo     0.043799\n",
       "4       Min     0.021347\n",
       "5       Max     0.007325\n",
       "6     Ntags     0.004286\n",
       "7       572     0.002539\n",
       "8      2641     0.001791\n",
       "9      4891     0.001044\n",
       "10     3526     0.001035\n",
       "11    Nurls     0.000986\n",
       "12     1911     0.000977\n",
       "13      559     0.000964\n",
       "14     1210     0.000914"
      ]
     },
     "execution_count": 78,
     "metadata": {},
     "output_type": "execute_result"
    }
   ],
   "source": [
    "importancia_atributo.head(15)"
   ]
  },
  {
   "cell_type": "markdown",
   "metadata": {
    "id": "cHD8ycTSC92d"
   },
   "source": [
    "## KNN"
   ]
  },
  {
   "cell_type": "code",
   "execution_count": 79,
   "metadata": {
    "id": "_H98_9PQC92d"
   },
   "outputs": [],
   "source": [
    "knn = KNeighborsClassifier(n_neighbors=3)\n",
    "knn = knn.fit(X_train, Y_train)\n",
    "y_pred = knn.predict(X_test)"
   ]
  },
  {
   "cell_type": "code",
   "execution_count": 80,
   "metadata": {
    "id": "rAN5zOFdC92d",
    "outputId": "75ea29c1-b259-4d2d-c703-a122d0c273ff"
   },
   "outputs": [
    {
     "name": "stdout",
     "output_type": "stream",
     "text": [
      "Exactitud: 0.59\n",
      "Recall: 0.5857267188859878\n",
      "Precisión: 0.5848975789828091\n",
      "Puntuación F1: 0.5848185576502105\n"
     ]
    }
   ],
   "source": [
    "print('Exactitud: %.2f' % accuracy_score(Y_test, y_pred))\n",
    "print(\"Recall: {}\".format(recall_score(Y_test, y_pred, average='weighted')))\n",
    "print(\"Precisión: {}\".format(precision_score(Y_test,y_pred, average='weighted')))\n",
    "print(\"Puntuación F1: {}\".format(f1_score(Y_test,y_pred, average='weighted')))"
   ]
  },
  {
   "cell_type": "code",
   "execution_count": 81,
   "metadata": {
    "id": "q6XPtCZPC92e"
   },
   "outputs": [],
   "source": [
    "# Búsqueda de hiper parámetros en KNN\n",
    "# Lista de Hiperparámetros a afinar\n",
    "n_neighbors = list(range(1,20))\n",
    "n_odd_neighbors = list(filter(lambda x: (x % 2 != 0), n_neighbors))\n",
    "p=[1,2] #Función de distancia 1: manhattan, 2: euclidean, otro valor: minkowski\n",
    "\n",
    "#Convert to dictionary\n",
    "hyperparameters = dict(n_neighbors=n_neighbors, p=p)\n",
    "\n",
    "#Create new KNN object\n",
    "knn_2 = KNeighborsClassifier()"
   ]
  },
  {
   "cell_type": "code",
   "execution_count": 82,
   "metadata": {
    "id": "4g_d_CPiC92e"
   },
   "outputs": [
    {
     "name": "stdout",
     "output_type": "stream",
     "text": [
      "Best p: 1\n",
      "Best n_neighbors: 6\n"
     ]
    }
   ],
   "source": [
    "#Usamos GridSearch\n",
    "mejor_modelo_knn = GridSearchCV(knn_2, hyperparameters, cv=10)\n",
    "\n",
    "#Fit the model\n",
    "mejor_modelo_knn.fit(X_train, Y_train)\n",
    "\n",
    "# Podemos ver cuál fue el resultado de la búsqueda (mejores valores de hiperparámetros)\n",
    "print('Best p:', mejor_modelo_knn.best_estimator_.get_params()['p'])\n",
    "print('Best n_neighbors:', mejor_modelo_knn.best_estimator_.get_params()['n_neighbors'])\n",
    "# Obtener el mejor modelo.\n",
    "neigh_final = mejor_modelo_knn.best_estimator_"
   ]
  },
  {
   "cell_type": "code",
   "execution_count": 83,
   "metadata": {
    "id": "CBPd5csMC92e"
   },
   "outputs": [
    {
     "data": {
      "text/plain": [
       "KNeighborsClassifier(n_neighbors=6, p=1)"
      ]
     },
     "execution_count": 83,
     "metadata": {},
     "output_type": "execute_result"
    }
   ],
   "source": [
    "# Podemos ver cuál fue el resultado de la búsqueda (mejores valores de hiperparámetros)\n",
    "neigh_final"
   ]
  },
  {
   "cell_type": "code",
   "execution_count": 84,
   "metadata": {},
   "outputs": [
    {
     "name": "stdout",
     "output_type": "stream",
     "text": [
      "Exactitud: 0.59\n",
      "Recall: 0.591238758340586\n",
      "Precisión: 0.5960684310299029\n",
      "Puntuación F1: 0.5755338717422631\n"
     ]
    }
   ],
   "source": [
    "#Estadisticas con el conjunto de prueba\n",
    "y_pred = neigh_final.predict(X_test)\n",
    "print('Exactitud: %.2f' % accuracy_score(Y_test, y_pred))\n",
    "print(\"Recall: {}\".format(recall_score(Y_test, y_pred, average='weighted')))\n",
    "print(\"Precisión: {}\".format(precision_score(Y_test,y_pred, average='weighted')))\n",
    "print(\"Puntuación F1: {}\".format(f1_score(Y_test,y_pred, average='weighted')))"
   ]
  },
  {
   "cell_type": "markdown",
   "metadata": {},
   "source": [
    "## Random Forest"
   ]
  },
  {
   "cell_type": "code",
   "execution_count": 85,
   "metadata": {},
   "outputs": [],
   "source": [
    "forest = RandomForestClassifier(n_estimators=100, criterion='gini', min_samples_split=2, max_depth=2)\n",
    "forest = forest.fit(X_train, Y_train)"
   ]
  },
  {
   "cell_type": "code",
   "execution_count": 86,
   "metadata": {},
   "outputs": [
    {
     "name": "stdout",
     "output_type": "stream",
     "text": [
      "Exactitud: 0.52\n",
      "Recall: 0.5230635335073978\n",
      "Precisión: 0.2735954600852446\n",
      "Puntuación F1: 0.35926992415765263\n"
     ]
    }
   ],
   "source": [
    "y_pred = forest.predict(X_test)\n",
    "print('Exactitud: %.2f' % accuracy_score(Y_test, y_pred))\n",
    "print(\"Recall: {}\".format(recall_score(Y_test, y_pred, average='weighted')))\n",
    "print(\"Precisión: {}\".format(precision_score(Y_test,y_pred, average='weighted')))\n",
    "print(\"Puntuación F1: {}\".format(f1_score(Y_test,y_pred, average='weighted')))"
   ]
  },
  {
   "cell_type": "code",
   "execution_count": 87,
   "metadata": {},
   "outputs": [],
   "source": [
    "# Fijemos el número de particiones. Utilizaremos K = 10.\n",
    "particiones = KFold(n_splits=10, shuffle=True, random_state = 0)\n",
    "# Establecemos el espacio de búsqueda para los hiperparámetros que deseamos ajustar. \n",
    "param_grid = {'n_estimators':[50, 100, 200],'criterion':['gini', 'entropy'],'max_depth':[None,4,10,20],'min_samples_split':[4, 10, 20]}"
   ]
  },
  {
   "cell_type": "code",
   "execution_count": 88,
   "metadata": {},
   "outputs": [
    {
     "data": {
      "text/plain": [
       "GridSearchCV(cv=KFold(n_splits=10, random_state=0, shuffle=True),\n",
       "             estimator=RandomForestClassifier(),\n",
       "             param_grid={'criterion': ['gini', 'entropy'],\n",
       "                         'max_depth': [None, 4, 10, 20],\n",
       "                         'min_samples_split': [4, 10, 20],\n",
       "                         'n_estimators': [50, 100, 200]})"
      ]
     },
     "execution_count": 88,
     "metadata": {},
     "output_type": "execute_result"
    }
   ],
   "source": [
    "forest = RandomForestClassifier()\n",
    "# Se comprueban los mejores hiperparametros\n",
    "mejor_modelo = GridSearchCV(forest, param_grid, cv=particiones)\n",
    "# Ajuste del modelo\n",
    "mejor_modelo.fit(X_train, Y_train)"
   ]
  },
  {
   "cell_type": "code",
   "execution_count": 89,
   "metadata": {},
   "outputs": [
    {
     "data": {
      "text/plain": [
       "{'criterion': 'entropy',\n",
       " 'max_depth': None,\n",
       " 'min_samples_split': 4,\n",
       " 'n_estimators': 200}"
      ]
     },
     "execution_count": 89,
     "metadata": {},
     "output_type": "execute_result"
    }
   ],
   "source": [
    "mejor_modelo.best_params_"
   ]
  },
  {
   "cell_type": "code",
   "execution_count": 90,
   "metadata": {},
   "outputs": [
    {
     "name": "stdout",
     "output_type": "stream",
     "text": [
      "Exactitud: 0.74\n",
      "Recall: 0.7409341456338845\n",
      "Precisión: 0.7419007722135292\n",
      "Puntuación F1: 0.7398222503808954\n"
     ]
    }
   ],
   "source": [
    "y_pred = mejor_modelo.predict(X_test)\n",
    "print('Exactitud: %.2f' % accuracy_score(Y_test, y_pred))\n",
    "print(\"Recall: {}\".format(recall_score(Y_test, y_pred, average='weighted')))\n",
    "print(\"Precisión: {}\".format(precision_score(Y_test,y_pred, average='weighted')))\n",
    "print(\"Puntuación F1: {}\".format(f1_score(Y_test,y_pred, average='weighted')))"
   ]
  },
  {
   "cell_type": "code",
   "execution_count": 91,
   "metadata": {},
   "outputs": [
    {
     "data": {
      "text/plain": [
       "['rf.joblib']"
      ]
     },
     "execution_count": 91,
     "metadata": {},
     "output_type": "execute_result"
    }
   ],
   "source": [
    " # Usamos la lbreria joblib\n",
    "filename = 'rf.joblib'\n",
    "# Se guarda\n",
    "dump(mejor_modelo.best_estimator_, filename)"
   ]
  },
  {
   "cell_type": "code",
   "execution_count": 92,
   "metadata": {},
   "outputs": [
    {
     "data": {
      "text/plain": [
       "['knn.joblib']"
      ]
     },
     "execution_count": 92,
     "metadata": {},
     "output_type": "execute_result"
    }
   ],
   "source": [
    " # Usamos la lbreria joblib\n",
    "filename = 'knn.joblib'\n",
    "# Se guarda\n",
    "dump(neigh_final, filename)"
   ]
  },
  {
   "cell_type": "code",
   "execution_count": null,
   "metadata": {},
   "outputs": [],
   "source": []
  },
  {
   "cell_type": "code",
   "execution_count": null,
   "metadata": {},
   "outputs": [],
   "source": []
  }
 ],
 "metadata": {
  "colab": {
   "name": "proyecto.ipynb",
   "provenance": []
  },
  "kernelspec": {
   "display_name": "Python 3",
   "language": "python",
   "name": "python3"
  },
  "language_info": {
   "codemirror_mode": {
    "name": "ipython",
    "version": 3
   },
   "file_extension": ".py",
   "mimetype": "text/x-python",
   "name": "python",
   "nbconvert_exporter": "python",
   "pygments_lexer": "ipython3",
   "version": "3.8.8"
  }
 },
 "nbformat": 4,
 "nbformat_minor": 4
}
