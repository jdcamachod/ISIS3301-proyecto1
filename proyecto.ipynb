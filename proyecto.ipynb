{
 "cells": [
  {
   "cell_type": "markdown",
   "metadata": {
    "id": "2riIlpbtC92U"
   },
   "source": [
    "# Tweets influencing Bitcoin\n",
    "\n",
    "La idea es crear un modelo que dado un tweet pueda predecir su efecto en el precion del bitcoin. Las categorias son Positivo: aumenta el precio, Negativo: disminuye el precio, Neutral: no hay cambio en el precio.\n",
    "\n",
    "Para esto usaremos un modelo de clasificacion."
   ]
  },
  {
   "cell_type": "code",
   "execution_count": 109,
   "metadata": {
    "id": "q7tTa7PHC92V",
    "outputId": "9f55ce26-fe16-4ed0-8f20-9cf37c6ea5c7"
   },
   "outputs": [
    {
     "name": "stdout",
     "output_type": "stream",
     "text": [
      "Requirement already satisfied: langid in /Users/diego/opt/anaconda3/lib/python3.8/site-packages (1.1.6)\n",
      "Requirement already satisfied: numpy in /Users/diego/opt/anaconda3/lib/python3.8/site-packages (from langid) (1.20.1)\n",
      "Requirement already satisfied: many-stop-words in /Users/diego/opt/anaconda3/lib/python3.8/site-packages (0.2.2)\n",
      "Requirement already satisfied: emoji in /Users/diego/opt/anaconda3/lib/python3.8/site-packages (1.5.0)\n"
     ]
    }
   ],
   "source": [
    "!pip install langid\n",
    "!pip install many-stop-words\n",
    "!pip install emoji\n",
    "import pandas as pd\n",
    "import langid\n",
    "import warnings\n",
    "import re\n",
    "import matplotlib.pyplot as plt\n",
    "from sklearn.preprocessing import LabelEncoder\n",
    "from statistics import mode\n",
    "import nltk\n",
    "from nltk.corpus import stopwords\n",
    "import many_stop_words\n",
    "import emoji\n",
    "from nltk.stem.porter import PorterStemmer\n",
    "from sklearn.feature_extraction.text import TfidfVectorizer, CountVectorizer, HashingVectorizer\n",
    "from sklearn.model_selection import train_test_split\n",
    "from sklearn.tree import DecisionTreeClassifier\n",
    "from sklearn.neighbors import KNeighborsClassifier\n",
    "from sklearn.ensemble import RandomForestClassifier\n",
    "from sklearn.metrics import confusion_matrix, classification_report, precision_score, recall_score, f1_score, accuracy_score\n",
    "from sklearn.model_selection import KFold\n",
    "from sklearn.model_selection import GridSearchCV\n",
    "import ssl\n",
    "from joblib import dump, load\n",
    "warnings.filterwarnings('ignore')\n"
   ]
  },
  {
   "cell_type": "markdown",
   "metadata": {
    "id": "R22iQg_SC92W"
   },
   "source": [
    "## Perfilamiento"
   ]
  },
  {
   "cell_type": "code",
   "execution_count": 3,
   "metadata": {
    "id": "TRq4K0cNC92W"
   },
   "outputs": [],
   "source": [
    "filename = \"mbsa.csv\"\n",
    "datosO = pd.read_csv(filename)"
   ]
  },
  {
   "cell_type": "code",
   "execution_count": 57,
   "metadata": {
    "id": "IxwE4NCQC92W"
   },
   "outputs": [],
   "source": [
    "datos = datosO.sample(n=10000)"
   ]
  },
  {
   "cell_type": "code",
   "execution_count": 58,
   "metadata": {
    "id": "B3UaGs2sC92W",
    "outputId": "c2913f8a-e3dc-4417-dcc9-ae189760ad6e"
   },
   "outputs": [
    {
     "name": "stdout",
     "output_type": "stream",
     "text": [
      "<class 'pandas.core.frame.DataFrame'>\n",
      "Int64Index: 10000 entries, 3583058 to 18027053\n",
      "Data columns (total 3 columns):\n",
      " #   Column     Non-Null Count  Dtype \n",
      "---  ------     --------------  ----- \n",
      " 0   Date       10000 non-null  object\n",
      " 1   text       10000 non-null  object\n",
      " 2   Sentiment  9536 non-null   object\n",
      "dtypes: object(3)\n",
      "memory usage: 312.5+ KB\n"
     ]
    }
   ],
   "source": [
    "datos.info()"
   ]
  },
  {
   "cell_type": "markdown",
   "metadata": {
    "id": "MGk2dNu8C92W"
   },
   "source": [
    "### Eliminar nulos"
   ]
  },
  {
   "cell_type": "code",
   "execution_count": 59,
   "metadata": {
    "id": "JWgBBwDxC92X"
   },
   "outputs": [],
   "source": [
    "datos = datos[datos['Sentiment'].notna()]"
   ]
  },
  {
   "cell_type": "markdown",
   "metadata": {
    "id": "so-OweO-C92X"
   },
   "source": [
    "### Estadisticas del Tweet"
   ]
  },
  {
   "cell_type": "code",
   "execution_count": 60,
   "metadata": {
    "id": "1LcUKQ3dC92X",
    "outputId": "89235a79-b0cc-4ddf-aaec-193f5cc81339"
   },
   "outputs": [
    {
     "data": {
      "text/html": [
       "<div>\n",
       "<style scoped>\n",
       "    .dataframe tbody tr th:only-of-type {\n",
       "        vertical-align: middle;\n",
       "    }\n",
       "\n",
       "    .dataframe tbody tr th {\n",
       "        vertical-align: top;\n",
       "    }\n",
       "\n",
       "    .dataframe thead th {\n",
       "        text-align: right;\n",
       "    }\n",
       "</style>\n",
       "<table border=\"1\" class=\"dataframe\">\n",
       "  <thead>\n",
       "    <tr style=\"text-align: right;\">\n",
       "      <th></th>\n",
       "      <th>Date</th>\n",
       "      <th>text</th>\n",
       "      <th>Sentiment</th>\n",
       "      <th>Conteo</th>\n",
       "      <th>Moda</th>\n",
       "      <th>Max</th>\n",
       "      <th>Min</th>\n",
       "    </tr>\n",
       "  </thead>\n",
       "  <tbody>\n",
       "    <tr>\n",
       "      <th>3583058</th>\n",
       "      <td>2018-08-03</td>\n",
       "      <td>@lifeoncoin</td>\n",
       "      <td>Negative</td>\n",
       "      <td>11</td>\n",
       "      <td>@lifeoncoin</td>\n",
       "      <td>11</td>\n",
       "      <td>11</td>\n",
       "    </tr>\n",
       "    <tr>\n",
       "      <th>8839737</th>\n",
       "      <td>2019-07-03</td>\n",
       "      <td>La ‘revolución’ del</td>\n",
       "      <td>Positive</td>\n",
       "      <td>19</td>\n",
       "      <td>La</td>\n",
       "      <td>12</td>\n",
       "      <td>2</td>\n",
       "    </tr>\n",
       "    <tr>\n",
       "      <th>558264</th>\n",
       "      <td>2019-05-24</td>\n",
       "      <td>This company PAYS DAILY and in BITCOIN!\\n\\nBes...</td>\n",
       "      <td>Positive</td>\n",
       "      <td>124</td>\n",
       "      <td>This</td>\n",
       "      <td>23</td>\n",
       "      <td>2</td>\n",
       "    </tr>\n",
       "    <tr>\n",
       "      <th>14811155</th>\n",
       "      <td>2019-09-11</td>\n",
       "      <td>One Bitcoin now worth $10068.713. Market Cap $...</td>\n",
       "      <td>Positive</td>\n",
       "      <td>94</td>\n",
       "      <td>One</td>\n",
       "      <td>11</td>\n",
       "      <td>2</td>\n",
       "    </tr>\n",
       "    <tr>\n",
       "      <th>2376931</th>\n",
       "      <td>2018-02-06</td>\n",
       "      <td>https://www.c-span.org/video/?440770-1/jay-cla...</td>\n",
       "      <td>Positive</td>\n",
       "      <td>125</td>\n",
       "      <td>https://www.c-span.org/video/?440770-1/jay-cla...</td>\n",
       "      <td>109</td>\n",
       "      <td>4</td>\n",
       "    </tr>\n",
       "  </tbody>\n",
       "</table>\n",
       "</div>"
      ],
      "text/plain": [
       "                Date                                               text  \\\n",
       "3583058   2018-08-03                                        @lifeoncoin   \n",
       "8839737   2019-07-03                                La ‘revolución’ del   \n",
       "558264    2019-05-24  This company PAYS DAILY and in BITCOIN!\\n\\nBes...   \n",
       "14811155  2019-09-11  One Bitcoin now worth $10068.713. Market Cap $...   \n",
       "2376931   2018-02-06  https://www.c-span.org/video/?440770-1/jay-cla...   \n",
       "\n",
       "         Sentiment  Conteo                                               Moda  \\\n",
       "3583058   Negative      11                                        @lifeoncoin   \n",
       "8839737   Positive      19                                                 La   \n",
       "558264    Positive     124                                               This   \n",
       "14811155  Positive      94                                                One   \n",
       "2376931   Positive     125  https://www.c-span.org/video/?440770-1/jay-cla...   \n",
       "\n",
       "          Max  Min  \n",
       "3583058    11   11  \n",
       "8839737    12    2  \n",
       "558264     23    2  \n",
       "14811155   11    2  \n",
       "2376931   109    4  "
      ]
     },
     "execution_count": 60,
     "metadata": {},
     "output_type": "execute_result"
    }
   ],
   "source": [
    "datos['Conteo'] = [len(x) for x in datos['text']]\n",
    "datos['Moda'] = [[mode([x for x in i.split(' ')])][0] for i in datos['text']]\n",
    "datos['Max'] = [[max([len(x) for x in i.split(' ')])][0] for i in datos['text']]\n",
    "datos['Min'] = [[min([len(x) for x in i.split(' ')])][0] for i in datos['text']]\n",
    "datos.head()"
   ]
  },
  {
   "cell_type": "markdown",
   "metadata": {
    "id": "72qAjRtkC92X"
   },
   "source": [
    "### Hashtags, menciones y vinculos"
   ]
  },
  {
   "cell_type": "code",
   "execution_count": 61,
   "metadata": {
    "id": "xcyD-DyxC92X",
    "outputId": "2381d3f4-42b2-48d0-a22f-3525a4bf7cdb"
   },
   "outputs": [
    {
     "data": {
      "text/html": [
       "<div>\n",
       "<style scoped>\n",
       "    .dataframe tbody tr th:only-of-type {\n",
       "        vertical-align: middle;\n",
       "    }\n",
       "\n",
       "    .dataframe tbody tr th {\n",
       "        vertical-align: top;\n",
       "    }\n",
       "\n",
       "    .dataframe thead th {\n",
       "        text-align: right;\n",
       "    }\n",
       "</style>\n",
       "<table border=\"1\" class=\"dataframe\">\n",
       "  <thead>\n",
       "    <tr style=\"text-align: right;\">\n",
       "      <th></th>\n",
       "      <th>Date</th>\n",
       "      <th>text</th>\n",
       "      <th>Sentiment</th>\n",
       "      <th>Conteo</th>\n",
       "      <th>Moda</th>\n",
       "      <th>Max</th>\n",
       "      <th>Min</th>\n",
       "      <th>Ntags</th>\n",
       "      <th>Nmentions</th>\n",
       "      <th>Nurls</th>\n",
       "      <th>tags</th>\n",
       "      <th>mentions</th>\n",
       "      <th>newText</th>\n",
       "    </tr>\n",
       "  </thead>\n",
       "  <tbody>\n",
       "    <tr>\n",
       "      <th>3583058</th>\n",
       "      <td>2018-08-03</td>\n",
       "      <td>@lifeoncoin</td>\n",
       "      <td>Negative</td>\n",
       "      <td>11</td>\n",
       "      <td>@lifeoncoin</td>\n",
       "      <td>11</td>\n",
       "      <td>11</td>\n",
       "      <td>0</td>\n",
       "      <td>0</td>\n",
       "      <td>0</td>\n",
       "      <td>[]</td>\n",
       "      <td>[lifeoncoin]</td>\n",
       "      <td></td>\n",
       "    </tr>\n",
       "    <tr>\n",
       "      <th>8839737</th>\n",
       "      <td>2019-07-03</td>\n",
       "      <td>La ‘revolución’ del</td>\n",
       "      <td>Positive</td>\n",
       "      <td>19</td>\n",
       "      <td>La</td>\n",
       "      <td>12</td>\n",
       "      <td>2</td>\n",
       "      <td>0</td>\n",
       "      <td>0</td>\n",
       "      <td>0</td>\n",
       "      <td>[]</td>\n",
       "      <td>[]</td>\n",
       "      <td>la ‘revolución’ del</td>\n",
       "    </tr>\n",
       "    <tr>\n",
       "      <th>558264</th>\n",
       "      <td>2019-05-24</td>\n",
       "      <td>This company PAYS DAILY and in BITCOIN!\\n\\nBes...</td>\n",
       "      <td>Positive</td>\n",
       "      <td>124</td>\n",
       "      <td>This</td>\n",
       "      <td>23</td>\n",
       "      <td>2</td>\n",
       "      <td>0</td>\n",
       "      <td>1</td>\n",
       "      <td>1</td>\n",
       "      <td>[]</td>\n",
       "      <td>[youtube]</td>\n",
       "      <td>this company pays daily and in bitcoin!  best ...</td>\n",
       "    </tr>\n",
       "    <tr>\n",
       "      <th>14811155</th>\n",
       "      <td>2019-09-11</td>\n",
       "      <td>One Bitcoin now worth $10068.713. Market Cap $...</td>\n",
       "      <td>Positive</td>\n",
       "      <td>94</td>\n",
       "      <td>One</td>\n",
       "      <td>11</td>\n",
       "      <td>2</td>\n",
       "      <td>2</td>\n",
       "      <td>0</td>\n",
       "      <td>0</td>\n",
       "      <td>[coindesk, bitcoin]</td>\n",
       "      <td>[]</td>\n",
       "      <td>one bitcoin now worth $10068.713. market cap $...</td>\n",
       "    </tr>\n",
       "    <tr>\n",
       "      <th>2376931</th>\n",
       "      <td>2018-02-06</td>\n",
       "      <td>https://www.c-span.org/video/?440770-1/jay-cla...</td>\n",
       "      <td>Positive</td>\n",
       "      <td>125</td>\n",
       "      <td>https://www.c-span.org/video/?440770-1/jay-cla...</td>\n",
       "      <td>109</td>\n",
       "      <td>4</td>\n",
       "      <td>0</td>\n",
       "      <td>0</td>\n",
       "      <td>1</td>\n",
       "      <td>[]</td>\n",
       "      <td>[]</td>\n",
       "      <td>$alts $btc $eth</td>\n",
       "    </tr>\n",
       "  </tbody>\n",
       "</table>\n",
       "</div>"
      ],
      "text/plain": [
       "                Date                                               text  \\\n",
       "3583058   2018-08-03                                        @lifeoncoin   \n",
       "8839737   2019-07-03                                La ‘revolución’ del   \n",
       "558264    2019-05-24  This company PAYS DAILY and in BITCOIN!\\n\\nBes...   \n",
       "14811155  2019-09-11  One Bitcoin now worth $10068.713. Market Cap $...   \n",
       "2376931   2018-02-06  https://www.c-span.org/video/?440770-1/jay-cla...   \n",
       "\n",
       "         Sentiment  Conteo                                               Moda  \\\n",
       "3583058   Negative      11                                        @lifeoncoin   \n",
       "8839737   Positive      19                                                 La   \n",
       "558264    Positive     124                                               This   \n",
       "14811155  Positive      94                                                One   \n",
       "2376931   Positive     125  https://www.c-span.org/video/?440770-1/jay-cla...   \n",
       "\n",
       "          Max  Min  Ntags  Nmentions  Nurls                 tags  \\\n",
       "3583058    11   11      0          0      0                   []   \n",
       "8839737    12    2      0          0      0                   []   \n",
       "558264     23    2      0          1      1                   []   \n",
       "14811155   11    2      2          0      0  [coindesk, bitcoin]   \n",
       "2376931   109    4      0          0      1                   []   \n",
       "\n",
       "              mentions                                            newText  \n",
       "3583058   [lifeoncoin]                                                     \n",
       "8839737             []                                la ‘revolución’ del  \n",
       "558264       [youtube]  this company pays daily and in bitcoin!  best ...  \n",
       "14811155            []  one bitcoin now worth $10068.713. market cap $...  \n",
       "2376931             []                                    $alts $btc $eth  "
      ]
     },
     "execution_count": 61,
     "metadata": {},
     "output_type": "execute_result"
    }
   ],
   "source": [
    "def tagsMensUrls(x):\n",
    "    x = str(x)\n",
    "    x = x.replace('\\n',' ')\n",
    "    x = x.replace('(',' ')\n",
    "    x = x.replace(')',' ')\n",
    "    x = x.replace('\\'','')\n",
    "    return x.count(' #'), x.count(' @'),x.count('http'), (tags:=bus(x,'#')), (ment:=bus(x,'@')), newText(x,tags,ment)\n",
    "def bus(x,a):\n",
    "    l = []\n",
    "    for y in x.split(' '):\n",
    "        if (y.startswith(a)):\n",
    "            l.append(y[1:].lower())\n",
    "    return l\n",
    "def newText(x,tags,ment):\n",
    "    x = x.lower()\n",
    "    for t in tags:\n",
    "        x = x.replace(\"#\"+t,\"\")\n",
    "    for m in ment:\n",
    "        x = x.replace(\"@\"+m,\"\")\n",
    "    for u in bus(x,\"http\"):\n",
    "        x = x.replace('h'+u,\"\")\n",
    "    return x\n",
    "        \n",
    "tagsMensUrlsInfo = pd.DataFrame(datos[\"text\"].apply(tagsMensUrls).tolist(),columns=[\"Ntags\",\"Nmentions\",\"Nurls\",\"tags\",\"mentions\",\"newText\"],index=datos.index)\n",
    "datos = pd.concat([datos, tagsMensUrlsInfo], axis=1)\n",
    "datos.head()"
   ]
  },
  {
   "cell_type": "markdown",
   "metadata": {
    "id": "IPWP8KMmC92X"
   },
   "source": [
    "### Encontrar idiomas"
   ]
  },
  {
   "cell_type": "code",
   "execution_count": 62,
   "metadata": {
    "id": "kPCzQcfEC92Y",
    "outputId": "e65ec9fd-e80a-4adb-b887-a7c832426506"
   },
   "outputs": [],
   "source": [
    "# datos[\"lang\"]=datos[\"newText\"].apply(lambda x: langid.classify(x)[0])\n",
    "# plt.style.use('dark_background')\n",
    "# fig=plt.figure(figsize=(21,4))\n",
    "# n,b,p=plt.hist(datos[\"lang\"])\n",
    "# plt.title(\"Idiomas\")\n",
    "# datos['lang'].value_counts()"
   ]
  },
  {
   "cell_type": "markdown",
   "metadata": {},
   "source": [
    "### Usar solo 10 idiomas mas relevantes"
   ]
  },
  {
   "cell_type": "code",
   "execution_count": 63,
   "metadata": {},
   "outputs": [],
   "source": [
    "# languages = datos['lang'].value_counts().index.values[:10]\n",
    "# datos = datos.loc[datos['lang'].isin(languages)]"
   ]
  },
  {
   "cell_type": "markdown",
   "metadata": {
    "id": "EXGeJsA2C92Y"
   },
   "source": [
    "### Ajustar sentimiento"
   ]
  },
  {
   "cell_type": "code",
   "execution_count": 64,
   "metadata": {
    "id": "EVn-2WxiC92Y"
   },
   "outputs": [],
   "source": [
    "patternP = re.compile(\"^(\\s|\\t)*(p|P)(\\s|[A-Za-z])*$\")\n",
    "patternN = re.compile(\"^(\\s|\\t)*(neg|Neg)(\\s|[A-Za-z])*$\")\n",
    "patternNeu = re.compile(\"^(\\s|\\t)*(neu|Neu)(\\s|[A-Za-z])*$\")\n",
    "patternNumb = re.compile(\"^(\\s|\\t|[A-Za-z])*([0-9])+(\\s|\\t|[A-Za-z])*$\")\n",
    "datos.loc[[True if patternP.fullmatch(datos['Sentiment'][x]) is not None else False for x in datos.index], 'Sentiment'] = \"Positive\"\n",
    "datos.loc[[True if patternN.fullmatch(datos['Sentiment'][x]) is not None else False for x in datos.index], 'Sentiment'] = \"Negative\"\n",
    "datos.loc[[True if patternNeu.fullmatch(datos['Sentiment'][x]) is not None else False for x in datos.index], 'Sentiment'] = \"Neutral\"\n",
    "datos = datos.drop(datos[[True if patternNumb.fullmatch(datos['Sentiment'][x]) is not None else False for x in datos.index]].index)"
   ]
  },
  {
   "cell_type": "markdown",
   "metadata": {
    "id": "te1rAKkbC92Y"
   },
   "source": [
    "### Visualizar datos"
   ]
  },
  {
   "cell_type": "code",
   "execution_count": 65,
   "metadata": {
    "id": "ObUQCg5tC92Y",
    "outputId": "ef9184c2-9093-4572-ae1e-ced49f8dc986"
   },
   "outputs": [
    {
     "data": {
      "text/plain": [
       "Text(0.5, 1.0, 'Sentiment')"
      ]
     },
     "execution_count": 65,
     "metadata": {},
     "output_type": "execute_result"
    },
    {
     "data": {
      "image/png": "[encoded data removed]",
      "text/plain": [
       "<Figure size 504x288 with 1 Axes>"
      ]
     },
     "metadata": {},
     "output_type": "display_data"
    }
   ],
   "source": [
    "plt.style.use('dark_background')\n",
    "fig=plt.figure(figsize=(7,4))\n",
    "a = datos[\"Sentiment\"].copy()\n",
    "a[pd.isnull(a)]=\"Sin especificar\"\n",
    "plt.hist(a)\n",
    "plt.title(\"Sentiment\")"
   ]
  },
  {
   "cell_type": "markdown",
   "metadata": {
    "id": "vxzmad3KC92Z"
   },
   "source": [
    "### Encoders"
   ]
  },
  {
   "cell_type": "code",
   "execution_count": 66,
   "metadata": {
    "id": "-pOzVPKVC92Z",
    "outputId": "1d7be214-3265-4fb4-9c8b-24d279cfa1d8"
   },
   "outputs": [
    {
     "data": {
      "text/plain": [
       "array(['Negative', 'Neutral', 'Positive'], dtype='<U8')"
      ]
     },
     "execution_count": 66,
     "metadata": {},
     "output_type": "execute_result"
    }
   ],
   "source": [
    "le = LabelEncoder()\n",
    "le.fit([\"Positive\", \"Negative\", \"Neutral\"])\n",
    "datos[\"Sentiment\"] = le.transform(datos[\"Sentiment\"])\n",
    "le.classes_"
   ]
  },
  {
   "cell_type": "markdown",
   "metadata": {
    "id": "aIxZdxzeC92Z"
   },
   "source": [
    "### Fechas"
   ]
  },
  {
   "cell_type": "code",
   "execution_count": 67,
   "metadata": {
    "id": "NFhUHGI1C92Z"
   },
   "outputs": [],
   "source": [
    "datos[\"Date\"]=pd.to_datetime(datos[\"Date\"])\n",
    "datos[\"year\"] = datos[\"Date\"].dt.year\n",
    "datos[\"month\"] = datos[\"Date\"].dt.month\n",
    "datos[\"day\"] = datos[\"Date\"].dt.day"
   ]
  },
  {
   "cell_type": "code",
   "execution_count": 68,
   "metadata": {
    "id": "jjCo1mCWC92Z",
    "outputId": "15f5c775-8e84-4728-d0ff-8710f6133bd6"
   },
   "outputs": [
    {
     "data": {
      "text/html": [
       "<div>\n",
       "<style scoped>\n",
       "    .dataframe tbody tr th:only-of-type {\n",
       "        vertical-align: middle;\n",
       "    }\n",
       "\n",
       "    .dataframe tbody tr th {\n",
       "        vertical-align: top;\n",
       "    }\n",
       "\n",
       "    .dataframe thead th {\n",
       "        text-align: right;\n",
       "    }\n",
       "</style>\n",
       "<table border=\"1\" class=\"dataframe\">\n",
       "  <thead>\n",
       "    <tr style=\"text-align: right;\">\n",
       "      <th></th>\n",
       "      <th>Date</th>\n",
       "      <th>text</th>\n",
       "      <th>Sentiment</th>\n",
       "      <th>Conteo</th>\n",
       "      <th>Moda</th>\n",
       "      <th>Max</th>\n",
       "      <th>Min</th>\n",
       "      <th>Ntags</th>\n",
       "      <th>Nmentions</th>\n",
       "      <th>Nurls</th>\n",
       "      <th>tags</th>\n",
       "      <th>mentions</th>\n",
       "      <th>newText</th>\n",
       "      <th>year</th>\n",
       "      <th>month</th>\n",
       "      <th>day</th>\n",
       "    </tr>\n",
       "  </thead>\n",
       "  <tbody>\n",
       "    <tr>\n",
       "      <th>3583058</th>\n",
       "      <td>2018-08-03</td>\n",
       "      <td>@lifeoncoin</td>\n",
       "      <td>0</td>\n",
       "      <td>11</td>\n",
       "      <td>@lifeoncoin</td>\n",
       "      <td>11</td>\n",
       "      <td>11</td>\n",
       "      <td>0</td>\n",
       "      <td>0</td>\n",
       "      <td>0</td>\n",
       "      <td>[]</td>\n",
       "      <td>[lifeoncoin]</td>\n",
       "      <td></td>\n",
       "      <td>2018</td>\n",
       "      <td>8</td>\n",
       "      <td>3</td>\n",
       "    </tr>\n",
       "    <tr>\n",
       "      <th>8839737</th>\n",
       "      <td>2019-07-03</td>\n",
       "      <td>La ‘revolución’ del</td>\n",
       "      <td>2</td>\n",
       "      <td>19</td>\n",
       "      <td>La</td>\n",
       "      <td>12</td>\n",
       "      <td>2</td>\n",
       "      <td>0</td>\n",
       "      <td>0</td>\n",
       "      <td>0</td>\n",
       "      <td>[]</td>\n",
       "      <td>[]</td>\n",
       "      <td>la ‘revolución’ del</td>\n",
       "      <td>2019</td>\n",
       "      <td>7</td>\n",
       "      <td>3</td>\n",
       "    </tr>\n",
       "    <tr>\n",
       "      <th>558264</th>\n",
       "      <td>2019-05-24</td>\n",
       "      <td>This company PAYS DAILY and in BITCOIN!\\n\\nBes...</td>\n",
       "      <td>2</td>\n",
       "      <td>124</td>\n",
       "      <td>This</td>\n",
       "      <td>23</td>\n",
       "      <td>2</td>\n",
       "      <td>0</td>\n",
       "      <td>1</td>\n",
       "      <td>1</td>\n",
       "      <td>[]</td>\n",
       "      <td>[youtube]</td>\n",
       "      <td>this company pays daily and in bitcoin!  best ...</td>\n",
       "      <td>2019</td>\n",
       "      <td>5</td>\n",
       "      <td>24</td>\n",
       "    </tr>\n",
       "    <tr>\n",
       "      <th>14811155</th>\n",
       "      <td>2019-09-11</td>\n",
       "      <td>One Bitcoin now worth $10068.713. Market Cap $...</td>\n",
       "      <td>2</td>\n",
       "      <td>94</td>\n",
       "      <td>One</td>\n",
       "      <td>11</td>\n",
       "      <td>2</td>\n",
       "      <td>2</td>\n",
       "      <td>0</td>\n",
       "      <td>0</td>\n",
       "      <td>[coindesk, bitcoin]</td>\n",
       "      <td>[]</td>\n",
       "      <td>one bitcoin now worth $10068.713. market cap $...</td>\n",
       "      <td>2019</td>\n",
       "      <td>9</td>\n",
       "      <td>11</td>\n",
       "    </tr>\n",
       "    <tr>\n",
       "      <th>2376931</th>\n",
       "      <td>2018-02-06</td>\n",
       "      <td>https://www.c-span.org/video/?440770-1/jay-cla...</td>\n",
       "      <td>2</td>\n",
       "      <td>125</td>\n",
       "      <td>https://www.c-span.org/video/?440770-1/jay-cla...</td>\n",
       "      <td>109</td>\n",
       "      <td>4</td>\n",
       "      <td>0</td>\n",
       "      <td>0</td>\n",
       "      <td>1</td>\n",
       "      <td>[]</td>\n",
       "      <td>[]</td>\n",
       "      <td>$alts $btc $eth</td>\n",
       "      <td>2018</td>\n",
       "      <td>2</td>\n",
       "      <td>6</td>\n",
       "    </tr>\n",
       "  </tbody>\n",
       "</table>\n",
       "</div>"
      ],
      "text/plain": [
       "               Date                                               text  \\\n",
       "3583058  2018-08-03                                        @lifeoncoin   \n",
       "8839737  2019-07-03                                La ‘revolución’ del   \n",
       "558264   2019-05-24  This company PAYS DAILY and in BITCOIN!\\n\\nBes...   \n",
       "14811155 2019-09-11  One Bitcoin now worth $10068.713. Market Cap $...   \n",
       "2376931  2018-02-06  https://www.c-span.org/video/?440770-1/jay-cla...   \n",
       "\n",
       "          Sentiment  Conteo  \\\n",
       "3583058           0      11   \n",
       "8839737           2      19   \n",
       "558264            2     124   \n",
       "14811155          2      94   \n",
       "2376931           2     125   \n",
       "\n",
       "                                                       Moda  Max  Min  Ntags  \\\n",
       "3583058                                         @lifeoncoin   11   11      0   \n",
       "8839737                                                  La   12    2      0   \n",
       "558264                                                 This   23    2      0   \n",
       "14811155                                                One   11    2      2   \n",
       "2376931   https://www.c-span.org/video/?440770-1/jay-cla...  109    4      0   \n",
       "\n",
       "          Nmentions  Nurls                 tags      mentions  \\\n",
       "3583058           0      0                   []  [lifeoncoin]   \n",
       "8839737           0      0                   []            []   \n",
       "558264            1      1                   []     [youtube]   \n",
       "14811155          0      0  [coindesk, bitcoin]            []   \n",
       "2376931           0      1                   []            []   \n",
       "\n",
       "                                                    newText  year  month  day  \n",
       "3583058                                                      2018      8    3  \n",
       "8839737                                 la ‘revolución’ del  2019      7    3  \n",
       "558264    this company pays daily and in bitcoin!  best ...  2019      5   24  \n",
       "14811155  one bitcoin now worth $10068.713. market cap $...  2019      9   11  \n",
       "2376931                                     $alts $btc $eth  2018      2    6  "
      ]
     },
     "execution_count": 68,
     "metadata": {},
     "output_type": "execute_result"
    }
   ],
   "source": [
    "datos.head()"
   ]
  },
  {
   "cell_type": "markdown",
   "metadata": {},
   "source": [
    "### Traducir"
   ]
  },
  {
   "cell_type": "code",
   "execution_count": 69,
   "metadata": {},
   "outputs": [],
   "source": [
    "# for l in languages:\n",
    "#     translator= Translator(to_lang='en', from_lang=l)\n",
    "#     datos.loc[datos['lang']==l]['newText'] = datos.loc[datos['lang']==l]['newText'].apply(lambda x: translator.translate(x))"
   ]
  },
  {
   "cell_type": "code",
   "execution_count": 70,
   "metadata": {},
   "outputs": [],
   "source": [
    "# translator= Translator(to_lang='en', from_lang='ja')\n",
    "# a = datos.loc[datos['lang']=='ja']['newText'].iloc[0]\n",
    "# translator.translate(a)"
   ]
  },
  {
   "cell_type": "code",
   "execution_count": 71,
   "metadata": {
    "id": "aMSKH8WhC92Z",
    "outputId": "40f8382f-70fe-4e68-9187-938a9927aa23"
   },
   "outputs": [],
   "source": [
    "# try:\n",
    "#     _create_unverified_https_context = ssl._create_unverified_context\n",
    "# except AttributeError:\n",
    "#     pass\n",
    "# else:\n",
    "#     ssl._create_default_https_context = _create_unverified_https_context\n",
    "# nltk.download('stopwords')"
   ]
  },
  {
   "cell_type": "markdown",
   "metadata": {
    "id": "uHAUK2HsC92a"
   },
   "source": [
    "### StopWords"
   ]
  },
  {
   "cell_type": "code",
   "execution_count": 72,
   "metadata": {
    "id": "bg-8uWNfC92a"
   },
   "outputs": [],
   "source": [
    "languages = ['ar',\n",
    "  'ca',\n",
    "  'cs',\n",
    "  'de',\n",
    "  'el',\n",
    "  'en',\n",
    "  'es',\n",
    "  'fi',\n",
    "  'fr',\n",
    "  'hu',\n",
    "  'it',\n",
    "  'ja',\n",
    "  'kr',\n",
    "  'nl',\n",
    "  'no',\n",
    "  'pl',\n",
    "  'pt',\n",
    "  'ru',\n",
    "  'sk',\n",
    "  'sv',\n",
    "  'tr',\n",
    "  'zh']\n",
    "\n",
    "stop_words = []\n",
    "for i in languages:\n",
    "    stop_words = stop_words + list(many_stop_words.get_stop_words(i))\n",
    "stop_words.append('\\'')\n",
    "stop_words.append('`')\n",
    "stop_words.append('’')\n",
    "stop_words.append('‘')"
   ]
  },
  {
   "cell_type": "code",
   "execution_count": null,
   "metadata": {
    "id": "e0OdO0aXC92a",
    "outputId": "45ac1d44-0a00-4906-9968-86009f1287ed"
   },
   "outputs": [],
   "source": []
  },
  {
   "cell_type": "code",
   "execution_count": 73,
   "metadata": {
    "id": "PUG53nekC92a",
    "outputId": "a51e0116-71b0-4303-db73-34f3ef76a421"
   },
   "outputs": [
    {
     "name": "stderr",
     "output_type": "stream",
     "text": [
      "[nltk_data] Downloading package punkt to /Users/diego/nltk_data...\n",
      "[nltk_data]   Package punkt is already up-to-date!\n"
     ]
    },
    {
     "data": {
      "text/plain": [
       "True"
      ]
     },
     "execution_count": 73,
     "metadata": {},
     "output_type": "execute_result"
    }
   ],
   "source": [
    "nltk.download('punkt')"
   ]
  },
  {
   "cell_type": "code",
   "execution_count": 74,
   "metadata": {
    "id": "cGDZ_JeoC92a"
   },
   "outputs": [],
   "source": [
    "ps = PorterStemmer()\n",
    "corpus = []\n",
    "stemmed_phrase = []\n",
    "for i in datos[\"newText\"]:\n",
    "    new = emoji.get_emoji_regexp().sub(\" \", i)\n",
    "    new = new.lower()\n",
    "    new = nltk.word_tokenize(new)\n",
    "    stemmed = [ps.stem(i) for i in new if i not in stop_words]\n",
    "    stemmed = ' '.join(stemmed)\n",
    "    corpus.append(new)\n",
    "    stemmed_phrase.append(stemmed)\n",
    "    \n",
    "datos[\"Tokens\"] = corpus\n",
    "datos[\"Stemmed\"] = stemmed_phrase\n"
   ]
  },
  {
   "cell_type": "code",
   "execution_count": 75,
   "metadata": {
    "id": "HdqVexFTC92a"
   },
   "outputs": [],
   "source": [
    "datos[\"TagsText\"] = datos[\"tags\"].apply(lambda x: ' '.join(map(str, x)))\n",
    "datos[\"MentionsText\"] = datos[\"mentions\"].apply(lambda x: ' '.join(map(str, x)))"
   ]
  },
  {
   "cell_type": "code",
   "execution_count": 76,
   "metadata": {
    "id": "EdFw0eGYC92a",
    "outputId": "f432baac-2abe-4321-af06-d2d1ad7d7793"
   },
   "outputs": [
    {
     "data": {
      "text/html": [
       "<div>\n",
       "<style scoped>\n",
       "    .dataframe tbody tr th:only-of-type {\n",
       "        vertical-align: middle;\n",
       "    }\n",
       "\n",
       "    .dataframe tbody tr th {\n",
       "        vertical-align: top;\n",
       "    }\n",
       "\n",
       "    .dataframe thead th {\n",
       "        text-align: right;\n",
       "    }\n",
       "</style>\n",
       "<table border=\"1\" class=\"dataframe\">\n",
       "  <thead>\n",
       "    <tr style=\"text-align: right;\">\n",
       "      <th></th>\n",
       "      <th>Date</th>\n",
       "      <th>text</th>\n",
       "      <th>Sentiment</th>\n",
       "      <th>Conteo</th>\n",
       "      <th>Moda</th>\n",
       "      <th>Max</th>\n",
       "      <th>Min</th>\n",
       "      <th>Ntags</th>\n",
       "      <th>Nmentions</th>\n",
       "      <th>Nurls</th>\n",
       "      <th>tags</th>\n",
       "      <th>mentions</th>\n",
       "      <th>newText</th>\n",
       "      <th>year</th>\n",
       "      <th>month</th>\n",
       "      <th>day</th>\n",
       "      <th>Tokens</th>\n",
       "      <th>Stemmed</th>\n",
       "      <th>TagsText</th>\n",
       "      <th>MentionsText</th>\n",
       "    </tr>\n",
       "  </thead>\n",
       "  <tbody>\n",
       "    <tr>\n",
       "      <th>3583058</th>\n",
       "      <td>2018-08-03</td>\n",
       "      <td>@lifeoncoin</td>\n",
       "      <td>0</td>\n",
       "      <td>11</td>\n",
       "      <td>@lifeoncoin</td>\n",
       "      <td>11</td>\n",
       "      <td>11</td>\n",
       "      <td>0</td>\n",
       "      <td>0</td>\n",
       "      <td>0</td>\n",
       "      <td>[]</td>\n",
       "      <td>[lifeoncoin]</td>\n",
       "      <td></td>\n",
       "      <td>2018</td>\n",
       "      <td>8</td>\n",
       "      <td>3</td>\n",
       "      <td>[]</td>\n",
       "      <td></td>\n",
       "      <td></td>\n",
       "      <td>lifeoncoin</td>\n",
       "    </tr>\n",
       "    <tr>\n",
       "      <th>8839737</th>\n",
       "      <td>2019-07-03</td>\n",
       "      <td>La ‘revolución’ del</td>\n",
       "      <td>2</td>\n",
       "      <td>19</td>\n",
       "      <td>La</td>\n",
       "      <td>12</td>\n",
       "      <td>2</td>\n",
       "      <td>0</td>\n",
       "      <td>0</td>\n",
       "      <td>0</td>\n",
       "      <td>[]</td>\n",
       "      <td>[]</td>\n",
       "      <td>la ‘revolución’ del</td>\n",
       "      <td>2019</td>\n",
       "      <td>7</td>\n",
       "      <td>3</td>\n",
       "      <td>[la, ‘, revolución, ’, del]</td>\n",
       "      <td>revolución</td>\n",
       "      <td></td>\n",
       "      <td></td>\n",
       "    </tr>\n",
       "    <tr>\n",
       "      <th>558264</th>\n",
       "      <td>2019-05-24</td>\n",
       "      <td>This company PAYS DAILY and in BITCOIN!\\n\\nBes...</td>\n",
       "      <td>2</td>\n",
       "      <td>124</td>\n",
       "      <td>This</td>\n",
       "      <td>23</td>\n",
       "      <td>2</td>\n",
       "      <td>0</td>\n",
       "      <td>1</td>\n",
       "      <td>1</td>\n",
       "      <td>[]</td>\n",
       "      <td>[youtube]</td>\n",
       "      <td>this company pays daily and in bitcoin!  best ...</td>\n",
       "      <td>2019</td>\n",
       "      <td>5</td>\n",
       "      <td>24</td>\n",
       "      <td>[this, company, pays, daily, and, in, bitcoin,...</td>\n",
       "      <td>compani pay daili bitcoin ! onlin earn opportu...</td>\n",
       "      <td></td>\n",
       "      <td>youtube</td>\n",
       "    </tr>\n",
       "    <tr>\n",
       "      <th>14811155</th>\n",
       "      <td>2019-09-11</td>\n",
       "      <td>One Bitcoin now worth $10068.713. Market Cap $...</td>\n",
       "      <td>2</td>\n",
       "      <td>94</td>\n",
       "      <td>One</td>\n",
       "      <td>11</td>\n",
       "      <td>2</td>\n",
       "      <td>2</td>\n",
       "      <td>0</td>\n",
       "      <td>0</td>\n",
       "      <td>[coindesk, bitcoin]</td>\n",
       "      <td>[]</td>\n",
       "      <td>one bitcoin now worth $10068.713. market cap $...</td>\n",
       "      <td>2019</td>\n",
       "      <td>9</td>\n",
       "      <td>11</td>\n",
       "      <td>[one, bitcoin, now, worth, $, 10068.713, ., ma...</td>\n",
       "      <td>bitcoin worth $ 10068.713 . market cap $ 180.5...</td>\n",
       "      <td>coindesk bitcoin</td>\n",
       "      <td></td>\n",
       "    </tr>\n",
       "    <tr>\n",
       "      <th>2376931</th>\n",
       "      <td>2018-02-06</td>\n",
       "      <td>https://www.c-span.org/video/?440770-1/jay-cla...</td>\n",
       "      <td>2</td>\n",
       "      <td>125</td>\n",
       "      <td>https://www.c-span.org/video/?440770-1/jay-cla...</td>\n",
       "      <td>109</td>\n",
       "      <td>4</td>\n",
       "      <td>0</td>\n",
       "      <td>0</td>\n",
       "      <td>1</td>\n",
       "      <td>[]</td>\n",
       "      <td>[]</td>\n",
       "      <td>$alts $btc $eth</td>\n",
       "      <td>2018</td>\n",
       "      <td>2</td>\n",
       "      <td>6</td>\n",
       "      <td>[$, alts, $, btc, $, eth]</td>\n",
       "      <td>$ alt $ btc $ eth</td>\n",
       "      <td></td>\n",
       "      <td></td>\n",
       "    </tr>\n",
       "    <tr>\n",
       "      <th>14728223</th>\n",
       "      <td>2019-09-09</td>\n",
       "      <td>Get Free Cryptocurrency at EarnCrypto https://...</td>\n",
       "      <td>0</td>\n",
       "      <td>102</td>\n",
       "      <td>Get</td>\n",
       "      <td>23</td>\n",
       "      <td>2</td>\n",
       "      <td>4</td>\n",
       "      <td>0</td>\n",
       "      <td>1</td>\n",
       "      <td>[ada, mtl, waves, btc]</td>\n",
       "      <td>[]</td>\n",
       "      <td>get free cryptocurrency at earncrypto      $bt...</td>\n",
       "      <td>2019</td>\n",
       "      <td>9</td>\n",
       "      <td>9</td>\n",
       "      <td>[get, free, cryptocurrency, at, earncrypto, $,...</td>\n",
       "      <td>free cryptocurr earncrypto $ btc $ xrp $ ltc $...</td>\n",
       "      <td>ada mtl waves btc</td>\n",
       "      <td></td>\n",
       "    </tr>\n",
       "    <tr>\n",
       "      <th>8929042</th>\n",
       "      <td>2019-07-04</td>\n",
       "      <td>@paul_btc Baby steps, if part of rent/food bec...</td>\n",
       "      <td>0</td>\n",
       "      <td>188</td>\n",
       "      <td>part</td>\n",
       "      <td>12</td>\n",
       "      <td>1</td>\n",
       "      <td>0</td>\n",
       "      <td>0</td>\n",
       "      <td>0</td>\n",
       "      <td>[]</td>\n",
       "      <td>[paul_btc]</td>\n",
       "      <td>baby steps, if part of rent/food becomes deno...</td>\n",
       "      <td>2019</td>\n",
       "      <td>7</td>\n",
       "      <td>4</td>\n",
       "      <td>[baby, steps, ,, if, part, of, rent/food, beco...</td>\n",
       "      <td>babi step , rent/food denomin bitcoin paycheck...</td>\n",
       "      <td></td>\n",
       "      <td>paul_btc</td>\n",
       "    </tr>\n",
       "    <tr>\n",
       "      <th>16554482</th>\n",
       "      <td>2019-10-08</td>\n",
       "      <td>#crypto price changes last hour\\n\\n🚀\\n$PMA +50...</td>\n",
       "      <td>0</td>\n",
       "      <td>145</td>\n",
       "      <td>#crypto</td>\n",
       "      <td>17</td>\n",
       "      <td>4</td>\n",
       "      <td>2</td>\n",
       "      <td>0</td>\n",
       "      <td>0</td>\n",
       "      <td>[crypto, bitcoin, cryptocurrency]</td>\n",
       "      <td>[]</td>\n",
       "      <td>price changes last hour  🚀 $pma +50.28% $npxs...</td>\n",
       "      <td>2019</td>\n",
       "      <td>10</td>\n",
       "      <td>8</td>\n",
       "      <td>[price, changes, last, hour, $, pma, +50.28, %...</td>\n",
       "      <td>price hour $ pma +50.28 % $ npx +50.28 % $ btt...</td>\n",
       "      <td>crypto bitcoin cryptocurrency</td>\n",
       "      <td></td>\n",
       "    </tr>\n",
       "    <tr>\n",
       "      <th>8902043</th>\n",
       "      <td>2019-07-04</td>\n",
       "      <td>La ‘revolución’ del</td>\n",
       "      <td>0</td>\n",
       "      <td>19</td>\n",
       "      <td>La</td>\n",
       "      <td>12</td>\n",
       "      <td>2</td>\n",
       "      <td>0</td>\n",
       "      <td>0</td>\n",
       "      <td>0</td>\n",
       "      <td>[]</td>\n",
       "      <td>[]</td>\n",
       "      <td>la ‘revolución’ del</td>\n",
       "      <td>2019</td>\n",
       "      <td>7</td>\n",
       "      <td>4</td>\n",
       "      <td>[la, ‘, revolución, ’, del]</td>\n",
       "      <td>revolución</td>\n",
       "      <td></td>\n",
       "      <td></td>\n",
       "    </tr>\n",
       "    <tr>\n",
       "      <th>5876841</th>\n",
       "      <td>2019-05-30</td>\n",
       "      <td>Yeni yatırımcılar için alım fırsatı demek isti...</td>\n",
       "      <td>0</td>\n",
       "      <td>124</td>\n",
       "      <td>Yeni</td>\n",
       "      <td>23</td>\n",
       "      <td>4</td>\n",
       "      <td>2</td>\n",
       "      <td>0</td>\n",
       "      <td>1</td>\n",
       "      <td>[btc, eth]</td>\n",
       "      <td>[]</td>\n",
       "      <td>yeni yatırımcılar için alım fırsatı demek isti...</td>\n",
       "      <td>2019</td>\n",
       "      <td>5</td>\n",
       "      <td>30</td>\n",
       "      <td>[yeni, yatırımcılar, için, alım, fırsatı, deme...</td>\n",
       "      <td>yeni yatırımcılar alım fırsatı demek istiyorum...</td>\n",
       "      <td>btc eth</td>\n",
       "      <td></td>\n",
       "    </tr>\n",
       "  </tbody>\n",
       "</table>\n",
       "</div>"
      ],
      "text/plain": [
       "               Date                                               text  \\\n",
       "3583058  2018-08-03                                        @lifeoncoin   \n",
       "8839737  2019-07-03                                La ‘revolución’ del   \n",
       "558264   2019-05-24  This company PAYS DAILY and in BITCOIN!\\n\\nBes...   \n",
       "14811155 2019-09-11  One Bitcoin now worth $10068.713. Market Cap $...   \n",
       "2376931  2018-02-06  https://www.c-span.org/video/?440770-1/jay-cla...   \n",
       "14728223 2019-09-09  Get Free Cryptocurrency at EarnCrypto https://...   \n",
       "8929042  2019-07-04  @paul_btc Baby steps, if part of rent/food bec...   \n",
       "16554482 2019-10-08  #crypto price changes last hour\\n\\n🚀\\n$PMA +50...   \n",
       "8902043  2019-07-04                                La ‘revolución’ del   \n",
       "5876841  2019-05-30  Yeni yatırımcılar için alım fırsatı demek isti...   \n",
       "\n",
       "          Sentiment  Conteo  \\\n",
       "3583058           0      11   \n",
       "8839737           2      19   \n",
       "558264            2     124   \n",
       "14811155          2      94   \n",
       "2376931           2     125   \n",
       "14728223          0     102   \n",
       "8929042           0     188   \n",
       "16554482          0     145   \n",
       "8902043           0      19   \n",
       "5876841           0     124   \n",
       "\n",
       "                                                       Moda  Max  Min  Ntags  \\\n",
       "3583058                                         @lifeoncoin   11   11      0   \n",
       "8839737                                                  La   12    2      0   \n",
       "558264                                                 This   23    2      0   \n",
       "14811155                                                One   11    2      2   \n",
       "2376931   https://www.c-span.org/video/?440770-1/jay-cla...  109    4      0   \n",
       "14728223                                                Get   23    2      4   \n",
       "8929042                                                part   12    1      0   \n",
       "16554482                                            #crypto   17    4      2   \n",
       "8902043                                                  La   12    2      0   \n",
       "5876841                                                Yeni   23    4      2   \n",
       "\n",
       "          Nmentions  Nurls                               tags      mentions  \\\n",
       "3583058           0      0                                 []  [lifeoncoin]   \n",
       "8839737           0      0                                 []            []   \n",
       "558264            1      1                                 []     [youtube]   \n",
       "14811155          0      0                [coindesk, bitcoin]            []   \n",
       "2376931           0      1                                 []            []   \n",
       "14728223          0      1             [ada, mtl, waves, btc]            []   \n",
       "8929042           0      0                                 []    [paul_btc]   \n",
       "16554482          0      0  [crypto, bitcoin, cryptocurrency]            []   \n",
       "8902043           0      0                                 []            []   \n",
       "5876841           0      1                         [btc, eth]            []   \n",
       "\n",
       "                                                    newText  year  month  day  \\\n",
       "3583058                                                      2018      8    3   \n",
       "8839737                                 la ‘revolución’ del  2019      7    3   \n",
       "558264    this company pays daily and in bitcoin!  best ...  2019      5   24   \n",
       "14811155  one bitcoin now worth $10068.713. market cap $...  2019      9   11   \n",
       "2376931                                     $alts $btc $eth  2018      2    6   \n",
       "14728223  get free cryptocurrency at earncrypto      $bt...  2019      9    9   \n",
       "8929042    baby steps, if part of rent/food becomes deno...  2019      7    4   \n",
       "16554482   price changes last hour  🚀 $pma +50.28% $npxs...  2019     10    8   \n",
       "8902043                                 la ‘revolución’ del  2019      7    4   \n",
       "5876841   yeni yatırımcılar için alım fırsatı demek isti...  2019      5   30   \n",
       "\n",
       "                                                     Tokens  \\\n",
       "3583058                                                  []   \n",
       "8839737                         [la, ‘, revolución, ’, del]   \n",
       "558264    [this, company, pays, daily, and, in, bitcoin,...   \n",
       "14811155  [one, bitcoin, now, worth, $, 10068.713, ., ma...   \n",
       "2376931                           [$, alts, $, btc, $, eth]   \n",
       "14728223  [get, free, cryptocurrency, at, earncrypto, $,...   \n",
       "8929042   [baby, steps, ,, if, part, of, rent/food, beco...   \n",
       "16554482  [price, changes, last, hour, $, pma, +50.28, %...   \n",
       "8902043                         [la, ‘, revolución, ’, del]   \n",
       "5876841   [yeni, yatırımcılar, için, alım, fırsatı, deme...   \n",
       "\n",
       "                                                    Stemmed  \\\n",
       "3583058                                                       \n",
       "8839737                                          revolución   \n",
       "558264    compani pay daili bitcoin ! onlin earn opportu...   \n",
       "14811155  bitcoin worth $ 10068.713 . market cap $ 180.5...   \n",
       "2376931                                   $ alt $ btc $ eth   \n",
       "14728223  free cryptocurr earncrypto $ btc $ xrp $ ltc $...   \n",
       "8929042   babi step , rent/food denomin bitcoin paycheck...   \n",
       "16554482  price hour $ pma +50.28 % $ npx +50.28 % $ btt...   \n",
       "8902043                                          revolución   \n",
       "5876841   yeni yatırımcılar alım fırsatı demek istiyorum...   \n",
       "\n",
       "                               TagsText MentionsText  \n",
       "3583058                                   lifeoncoin  \n",
       "8839737                                               \n",
       "558264                                       youtube  \n",
       "14811155               coindesk bitcoin               \n",
       "2376931                                               \n",
       "14728223              ada mtl waves btc               \n",
       "8929042                                     paul_btc  \n",
       "16554482  crypto bitcoin cryptocurrency               \n",
       "8902043                                               \n",
       "5876841                         btc eth               "
      ]
     },
     "execution_count": 76,
     "metadata": {},
     "output_type": "execute_result"
    }
   ],
   "source": [
    "datos.head(10)"
   ]
  },
  {
   "cell_type": "code",
   "execution_count": 77,
   "metadata": {
    "id": "D6crlVu1C92b"
   },
   "outputs": [],
   "source": [
    "stemmed_data = datos[\"Stemmed\"] "
   ]
  },
  {
   "cell_type": "code",
   "execution_count": 78,
   "metadata": {
    "id": "LubDRd5zC92b",
    "outputId": "2d2cc805-f3cd-4168-9b32-31610cb1db30"
   },
   "outputs": [
    {
     "name": "stdout",
     "output_type": "stream",
     "text": [
      "(9536, 19169)\n"
     ]
    }
   ],
   "source": [
    "stemmed_text_vectorizer = TfidfVectorizer(binary=True)\n",
    "stemmed_data = stemmed_text_vectorizer.fit_transform(datos[\"Stemmed\"] )\n",
    "print(stemmed_data.shape)\n",
    "df_stemmed = pd.DataFrame(stemmed_data.toarray())"
   ]
  },
  {
   "cell_type": "code",
   "execution_count": 79,
   "metadata": {
    "id": "0ppkvMiSC92b",
    "outputId": "b9738a5a-d531-4744-a290-a6509fa2a7ff"
   },
   "outputs": [
    {
     "name": "stdout",
     "output_type": "stream",
     "text": [
      "(9536, 4426)\n"
     ]
    }
   ],
   "source": [
    "tags_text_vectorizer = CountVectorizer(binary=True)\n",
    "tags_data = tags_text_vectorizer.fit_transform(datos[\"TagsText\"])\n",
    "print(tags_data.shape)\n",
    "df_tags = pd.DataFrame(tags_data.toarray())"
   ]
  },
  {
   "cell_type": "code",
   "execution_count": 80,
   "metadata": {
    "id": "TwhS3oxzC92b",
    "outputId": "92a8c323-45d1-4e48-dd3b-be5deca395a8"
   },
   "outputs": [
    {
     "name": "stdout",
     "output_type": "stream",
     "text": [
      "(9536, 2636)\n"
     ]
    }
   ],
   "source": [
    "mentions_text_vectorizer = CountVectorizer(binary=True)\n",
    "mentions_data = tags_text_vectorizer.fit_transform(datos[\"MentionsText\"])\n",
    "print(mentions_data.shape)\n",
    "df_mentions = pd.DataFrame(mentions_data.toarray())"
   ]
  },
  {
   "cell_type": "code",
   "execution_count": 81,
   "metadata": {
    "id": "1osONgOpC92b"
   },
   "outputs": [],
   "source": [
    "# Se concatenan todas las columnas con datos numéricos\n",
    "X = pd.concat([datos[[\"Conteo\", \"Max\", \"Min\", \"Ntags\", \"Nmentions\", \"Nurls\", \"year\", \"month\", \"day\"]].reset_index(drop=True), df_tags, df_mentions], axis=1)\n",
    "Y = datos[\"Sentiment\"].reset_index(drop=True)"
   ]
  },
  {
   "cell_type": "code",
   "execution_count": 82,
   "metadata": {
    "id": "GssnzXzgC92b",
    "outputId": "b1d7776a-87be-4934-d3d3-2b341cbee7d4"
   },
   "outputs": [
    {
     "data": {
      "text/html": [
       "<div>\n",
       "<style scoped>\n",
       "    .dataframe tbody tr th:only-of-type {\n",
       "        vertical-align: middle;\n",
       "    }\n",
       "\n",
       "    .dataframe tbody tr th {\n",
       "        vertical-align: top;\n",
       "    }\n",
       "\n",
       "    .dataframe thead th {\n",
       "        text-align: right;\n",
       "    }\n",
       "</style>\n",
       "<table border=\"1\" class=\"dataframe\">\n",
       "  <thead>\n",
       "    <tr style=\"text-align: right;\">\n",
       "      <th></th>\n",
       "      <th>Conteo</th>\n",
       "      <th>Max</th>\n",
       "      <th>Min</th>\n",
       "      <th>Ntags</th>\n",
       "      <th>Nmentions</th>\n",
       "      <th>Nurls</th>\n",
       "      <th>year</th>\n",
       "      <th>month</th>\n",
       "      <th>day</th>\n",
       "      <th>0</th>\n",
       "      <th>...</th>\n",
       "      <th>2626</th>\n",
       "      <th>2627</th>\n",
       "      <th>2628</th>\n",
       "      <th>2629</th>\n",
       "      <th>2630</th>\n",
       "      <th>2631</th>\n",
       "      <th>2632</th>\n",
       "      <th>2633</th>\n",
       "      <th>2634</th>\n",
       "      <th>2635</th>\n",
       "    </tr>\n",
       "  </thead>\n",
       "  <tbody>\n",
       "    <tr>\n",
       "      <th>0</th>\n",
       "      <td>11</td>\n",
       "      <td>11</td>\n",
       "      <td>11</td>\n",
       "      <td>0</td>\n",
       "      <td>0</td>\n",
       "      <td>0</td>\n",
       "      <td>2018</td>\n",
       "      <td>8</td>\n",
       "      <td>3</td>\n",
       "      <td>0</td>\n",
       "      <td>...</td>\n",
       "      <td>0</td>\n",
       "      <td>0</td>\n",
       "      <td>0</td>\n",
       "      <td>0</td>\n",
       "      <td>0</td>\n",
       "      <td>0</td>\n",
       "      <td>0</td>\n",
       "      <td>0</td>\n",
       "      <td>0</td>\n",
       "      <td>0</td>\n",
       "    </tr>\n",
       "    <tr>\n",
       "      <th>1</th>\n",
       "      <td>19</td>\n",
       "      <td>12</td>\n",
       "      <td>2</td>\n",
       "      <td>0</td>\n",
       "      <td>0</td>\n",
       "      <td>0</td>\n",
       "      <td>2019</td>\n",
       "      <td>7</td>\n",
       "      <td>3</td>\n",
       "      <td>0</td>\n",
       "      <td>...</td>\n",
       "      <td>0</td>\n",
       "      <td>0</td>\n",
       "      <td>0</td>\n",
       "      <td>0</td>\n",
       "      <td>0</td>\n",
       "      <td>0</td>\n",
       "      <td>0</td>\n",
       "      <td>0</td>\n",
       "      <td>0</td>\n",
       "      <td>0</td>\n",
       "    </tr>\n",
       "    <tr>\n",
       "      <th>2</th>\n",
       "      <td>124</td>\n",
       "      <td>23</td>\n",
       "      <td>2</td>\n",
       "      <td>0</td>\n",
       "      <td>1</td>\n",
       "      <td>1</td>\n",
       "      <td>2019</td>\n",
       "      <td>5</td>\n",
       "      <td>24</td>\n",
       "      <td>0</td>\n",
       "      <td>...</td>\n",
       "      <td>0</td>\n",
       "      <td>0</td>\n",
       "      <td>0</td>\n",
       "      <td>0</td>\n",
       "      <td>0</td>\n",
       "      <td>0</td>\n",
       "      <td>0</td>\n",
       "      <td>0</td>\n",
       "      <td>0</td>\n",
       "      <td>0</td>\n",
       "    </tr>\n",
       "    <tr>\n",
       "      <th>3</th>\n",
       "      <td>94</td>\n",
       "      <td>11</td>\n",
       "      <td>2</td>\n",
       "      <td>2</td>\n",
       "      <td>0</td>\n",
       "      <td>0</td>\n",
       "      <td>2019</td>\n",
       "      <td>9</td>\n",
       "      <td>11</td>\n",
       "      <td>0</td>\n",
       "      <td>...</td>\n",
       "      <td>0</td>\n",
       "      <td>0</td>\n",
       "      <td>0</td>\n",
       "      <td>0</td>\n",
       "      <td>0</td>\n",
       "      <td>0</td>\n",
       "      <td>0</td>\n",
       "      <td>0</td>\n",
       "      <td>0</td>\n",
       "      <td>0</td>\n",
       "    </tr>\n",
       "    <tr>\n",
       "      <th>4</th>\n",
       "      <td>125</td>\n",
       "      <td>109</td>\n",
       "      <td>4</td>\n",
       "      <td>0</td>\n",
       "      <td>0</td>\n",
       "      <td>1</td>\n",
       "      <td>2018</td>\n",
       "      <td>2</td>\n",
       "      <td>6</td>\n",
       "      <td>0</td>\n",
       "      <td>...</td>\n",
       "      <td>0</td>\n",
       "      <td>0</td>\n",
       "      <td>0</td>\n",
       "      <td>0</td>\n",
       "      <td>0</td>\n",
       "      <td>0</td>\n",
       "      <td>0</td>\n",
       "      <td>0</td>\n",
       "      <td>0</td>\n",
       "      <td>0</td>\n",
       "    </tr>\n",
       "    <tr>\n",
       "      <th>...</th>\n",
       "      <td>...</td>\n",
       "      <td>...</td>\n",
       "      <td>...</td>\n",
       "      <td>...</td>\n",
       "      <td>...</td>\n",
       "      <td>...</td>\n",
       "      <td>...</td>\n",
       "      <td>...</td>\n",
       "      <td>...</td>\n",
       "      <td>...</td>\n",
       "      <td>...</td>\n",
       "      <td>...</td>\n",
       "      <td>...</td>\n",
       "      <td>...</td>\n",
       "      <td>...</td>\n",
       "      <td>...</td>\n",
       "      <td>...</td>\n",
       "      <td>...</td>\n",
       "      <td>...</td>\n",
       "      <td>...</td>\n",
       "      <td>...</td>\n",
       "    </tr>\n",
       "    <tr>\n",
       "      <th>9531</th>\n",
       "      <td>109</td>\n",
       "      <td>8</td>\n",
       "      <td>1</td>\n",
       "      <td>6</td>\n",
       "      <td>0</td>\n",
       "      <td>0</td>\n",
       "      <td>2019</td>\n",
       "      <td>9</td>\n",
       "      <td>16</td>\n",
       "      <td>0</td>\n",
       "      <td>...</td>\n",
       "      <td>0</td>\n",
       "      <td>0</td>\n",
       "      <td>0</td>\n",
       "      <td>0</td>\n",
       "      <td>0</td>\n",
       "      <td>0</td>\n",
       "      <td>0</td>\n",
       "      <td>0</td>\n",
       "      <td>0</td>\n",
       "      <td>0</td>\n",
       "    </tr>\n",
       "    <tr>\n",
       "      <th>9532</th>\n",
       "      <td>85</td>\n",
       "      <td>85</td>\n",
       "      <td>85</td>\n",
       "      <td>0</td>\n",
       "      <td>0</td>\n",
       "      <td>0</td>\n",
       "      <td>2019</td>\n",
       "      <td>11</td>\n",
       "      <td>7</td>\n",
       "      <td>0</td>\n",
       "      <td>...</td>\n",
       "      <td>0</td>\n",
       "      <td>0</td>\n",
       "      <td>0</td>\n",
       "      <td>0</td>\n",
       "      <td>0</td>\n",
       "      <td>0</td>\n",
       "      <td>0</td>\n",
       "      <td>0</td>\n",
       "      <td>0</td>\n",
       "      <td>0</td>\n",
       "    </tr>\n",
       "    <tr>\n",
       "      <th>9533</th>\n",
       "      <td>99</td>\n",
       "      <td>13</td>\n",
       "      <td>2</td>\n",
       "      <td>0</td>\n",
       "      <td>0</td>\n",
       "      <td>0</td>\n",
       "      <td>2019</td>\n",
       "      <td>1</td>\n",
       "      <td>23</td>\n",
       "      <td>0</td>\n",
       "      <td>...</td>\n",
       "      <td>0</td>\n",
       "      <td>0</td>\n",
       "      <td>0</td>\n",
       "      <td>0</td>\n",
       "      <td>0</td>\n",
       "      <td>0</td>\n",
       "      <td>0</td>\n",
       "      <td>0</td>\n",
       "      <td>0</td>\n",
       "      <td>0</td>\n",
       "    </tr>\n",
       "    <tr>\n",
       "      <th>9534</th>\n",
       "      <td>67</td>\n",
       "      <td>16</td>\n",
       "      <td>0</td>\n",
       "      <td>2</td>\n",
       "      <td>0</td>\n",
       "      <td>0</td>\n",
       "      <td>2019</td>\n",
       "      <td>8</td>\n",
       "      <td>26</td>\n",
       "      <td>0</td>\n",
       "      <td>...</td>\n",
       "      <td>0</td>\n",
       "      <td>0</td>\n",
       "      <td>0</td>\n",
       "      <td>0</td>\n",
       "      <td>0</td>\n",
       "      <td>0</td>\n",
       "      <td>0</td>\n",
       "      <td>0</td>\n",
       "      <td>0</td>\n",
       "      <td>0</td>\n",
       "    </tr>\n",
       "    <tr>\n",
       "      <th>9535</th>\n",
       "      <td>79</td>\n",
       "      <td>10</td>\n",
       "      <td>1</td>\n",
       "      <td>0</td>\n",
       "      <td>0</td>\n",
       "      <td>0</td>\n",
       "      <td>2019</td>\n",
       "      <td>11</td>\n",
       "      <td>1</td>\n",
       "      <td>0</td>\n",
       "      <td>...</td>\n",
       "      <td>0</td>\n",
       "      <td>0</td>\n",
       "      <td>0</td>\n",
       "      <td>0</td>\n",
       "      <td>0</td>\n",
       "      <td>0</td>\n",
       "      <td>0</td>\n",
       "      <td>0</td>\n",
       "      <td>0</td>\n",
       "      <td>0</td>\n",
       "    </tr>\n",
       "  </tbody>\n",
       "</table>\n",
       "<p>9536 rows × 7071 columns</p>\n",
       "</div>"
      ],
      "text/plain": [
       "      Conteo  Max  Min  Ntags  Nmentions  Nurls  year  month  day  0  ...  \\\n",
       "0         11   11   11      0          0      0  2018      8    3  0  ...   \n",
       "1         19   12    2      0          0      0  2019      7    3  0  ...   \n",
       "2        124   23    2      0          1      1  2019      5   24  0  ...   \n",
       "3         94   11    2      2          0      0  2019      9   11  0  ...   \n",
       "4        125  109    4      0          0      1  2018      2    6  0  ...   \n",
       "...      ...  ...  ...    ...        ...    ...   ...    ...  ... ..  ...   \n",
       "9531     109    8    1      6          0      0  2019      9   16  0  ...   \n",
       "9532      85   85   85      0          0      0  2019     11    7  0  ...   \n",
       "9533      99   13    2      0          0      0  2019      1   23  0  ...   \n",
       "9534      67   16    0      2          0      0  2019      8   26  0  ...   \n",
       "9535      79   10    1      0          0      0  2019     11    1  0  ...   \n",
       "\n",
       "      2626  2627  2628  2629  2630  2631  2632  2633  2634  2635  \n",
       "0        0     0     0     0     0     0     0     0     0     0  \n",
       "1        0     0     0     0     0     0     0     0     0     0  \n",
       "2        0     0     0     0     0     0     0     0     0     0  \n",
       "3        0     0     0     0     0     0     0     0     0     0  \n",
       "4        0     0     0     0     0     0     0     0     0     0  \n",
       "...    ...   ...   ...   ...   ...   ...   ...   ...   ...   ...  \n",
       "9531     0     0     0     0     0     0     0     0     0     0  \n",
       "9532     0     0     0     0     0     0     0     0     0     0  \n",
       "9533     0     0     0     0     0     0     0     0     0     0  \n",
       "9534     0     0     0     0     0     0     0     0     0     0  \n",
       "9535     0     0     0     0     0     0     0     0     0     0  \n",
       "\n",
       "[9536 rows x 7071 columns]"
      ]
     },
     "execution_count": 82,
     "metadata": {},
     "output_type": "execute_result"
    }
   ],
   "source": [
    "X"
   ]
  },
  {
   "cell_type": "code",
   "execution_count": 83,
   "metadata": {
    "id": "CjHhE97XC92b",
    "outputId": "3292346a-6c6e-4032-ad8c-5f83c23f440c"
   },
   "outputs": [
    {
     "data": {
      "text/plain": [
       "0       0\n",
       "1       2\n",
       "2       2\n",
       "3       2\n",
       "4       2\n",
       "       ..\n",
       "9531    0\n",
       "9532    0\n",
       "9533    0\n",
       "9534    2\n",
       "9535    2\n",
       "Name: Sentiment, Length: 9536, dtype: int64"
      ]
     },
     "execution_count": 83,
     "metadata": {},
     "output_type": "execute_result"
    }
   ],
   "source": [
    "Y"
   ]
  },
  {
   "cell_type": "markdown",
   "metadata": {
    "id": "xIBLnh8_C92c"
   },
   "source": [
    "## Construcción de modelos"
   ]
  },
  {
   "cell_type": "markdown",
   "metadata": {
    "id": "mgceC6FFC92c"
   },
   "source": [
    "## Arbol de decisión"
   ]
  },
  {
   "cell_type": "code",
   "execution_count": 114,
   "metadata": {
    "id": "0Th2-dheC92c"
   },
   "outputs": [],
   "source": [
    "X_train, X_test, Y_train, Y_test = train_test_split(X, Y, test_size=0.3, random_state=0)"
   ]
  },
  {
   "cell_type": "code",
   "execution_count": 115,
   "metadata": {
    "id": "bydlFXzXC92c"
   },
   "outputs": [],
   "source": [
    "arbol = DecisionTreeClassifier(random_state=0)"
   ]
  },
  {
   "cell_type": "code",
   "execution_count": 116,
   "metadata": {
    "id": "05voNXFKC92c"
   },
   "outputs": [],
   "source": [
    "arbol = arbol.fit(X_train, Y_train)"
   ]
  },
  {
   "cell_type": "code",
   "execution_count": 117,
   "metadata": {
    "id": "LDgkUOhqC92c"
   },
   "outputs": [],
   "source": [
    "y_pred = arbol.predict(X_test)"
   ]
  },
  {
   "cell_type": "code",
   "execution_count": 118,
   "metadata": {
    "id": "4UFXaKB-C92c",
    "outputId": "214c6bf4-95bf-41d2-81b5-2875603b0e7c"
   },
   "outputs": [
    {
     "name": "stdout",
     "output_type": "stream",
     "text": [
      "Exactitud: 0.94\n",
      "Recall: 0.9444250262146103\n",
      "Precisión: 0.9444380083755479\n",
      "Puntuación F1: 0.9444286296437533\n"
     ]
    }
   ],
   "source": [
    "print('Exactitud: %.2f' % accuracy_score(Y_test, y_pred))\n",
    "print(\"Recall: {}\".format(recall_score(Y_test, y_pred, average='weighted')))\n",
    "print(\"Precisión: {}\".format(precision_score(Y_test,y_pred, average='weighted')))\n",
    "print(\"Puntuación F1: {}\".format(f1_score(Y_test,y_pred, average='weighted')))"
   ]
  },
  {
   "cell_type": "code",
   "execution_count": 119,
   "metadata": {
    "id": "AqJLvXKEC92c"
   },
   "outputs": [],
   "source": [
    "# Fijemos el número de particiones. Utilizaremos K = 10.\n",
    "particiones = KFold(n_splits=10, shuffle=True, random_state = 0)\n",
    "# Establecemos el espacio de búsqueda para los hiperparámetros que deseamos ajustar. \n",
    "param_grid = {'criterion':['gini', 'entropy'],'max_depth':[4,6,8,10,20],'min_samples_split':[2, 3, 4, 5]}"
   ]
  },
  {
   "cell_type": "code",
   "execution_count": 120,
   "metadata": {
    "id": "520fH021C92c"
   },
   "outputs": [],
   "source": [
    "# Definimos el modelo sin ningún valor de estos hiperparámetros\n",
    "arbol = DecisionTreeClassifier(random_state=0)"
   ]
  },
  {
   "cell_type": "code",
   "execution_count": 121,
   "metadata": {
    "id": "vYYxovQrC92d",
    "outputId": "d34f08f6-e840-4734-a476-ad2fcc00cdf4"
   },
   "outputs": [
    {
     "data": {
      "text/plain": [
       "GridSearchCV(cv=KFold(n_splits=10, random_state=0, shuffle=True),\n",
       "             estimator=DecisionTreeClassifier(random_state=0),\n",
       "             param_grid={'criterion': ['gini', 'entropy'],\n",
       "                         'max_depth': [4, 6, 8, 10, 20],\n",
       "                         'min_samples_split': [2, 3, 4, 5]})"
      ]
     },
     "execution_count": 121,
     "metadata": {},
     "output_type": "execute_result"
    }
   ],
   "source": [
    "mejor_modelo = GridSearchCV(arbol, param_grid, cv=particiones)\n",
    "# Ajuste del modelo\n",
    "mejor_modelo.fit(X_train, Y_train)"
   ]
  },
  {
   "cell_type": "code",
   "execution_count": 122,
   "metadata": {
    "id": "LHe0k6taC92d",
    "outputId": "072ad7d1-9f62-48d7-dd98-7b200c08cb16"
   },
   "outputs": [
    {
     "data": {
      "text/plain": [
       "{'criterion': 'entropy', 'max_depth': 20, 'min_samples_split': 3}"
      ]
     },
     "execution_count": 122,
     "metadata": {},
     "output_type": "execute_result"
    }
   ],
   "source": [
    "# Podemos ver cuál fue el resultado de la búsqueda (mejores valores de hiperparámetros)\n",
    "mejor_modelo.best_params_"
   ]
  },
  {
   "cell_type": "code",
   "execution_count": 123,
   "metadata": {
    "id": "CsDjIFOtC92d",
    "outputId": "df475f01-7d70-4dea-984c-6f82fcd93d00"
   },
   "outputs": [
    {
     "name": "stdout",
     "output_type": "stream",
     "text": [
      "Exactitud: 0.96\n",
      "Recall: 0.9587556798322265\n",
      "Precisión: 0.958888867783752\n",
      "Puntuación F1: 0.9587655553891136\n"
     ]
    }
   ],
   "source": [
    "y_pred = mejor_modelo.predict(X_test)\n",
    "print('Exactitud: %.2f' % accuracy_score(Y_test, y_pred))\n",
    "print(\"Recall: {}\".format(recall_score(Y_test, y_pred, average='weighted')))\n",
    "print(\"Precisión: {}\".format(precision_score(Y_test,y_pred, average='weighted')))\n",
    "print(\"Puntuación F1: {}\".format(f1_score(Y_test,y_pred, average='weighted')))"
   ]
  },
  {
   "cell_type": "code",
   "execution_count": 124,
   "metadata": {},
   "outputs": [],
   "source": [
    "arbol_final = mejor_modelo.best_estimator_"
   ]
  },
  {
   "cell_type": "code",
   "execution_count": 125,
   "metadata": {},
   "outputs": [
    {
     "data": {
      "text/plain": [
       "['arbol.joblib']"
      ]
     },
     "execution_count": 125,
     "metadata": {},
     "output_type": "execute_result"
    }
   ],
   "source": [
    " # Usamos la lbreria joblib\n",
    "filename = 'arbol.joblib'\n",
    "# Se guarda\n",
    "dump(arbol_final, filename)"
   ]
  },
  {
   "cell_type": "code",
   "execution_count": 126,
   "metadata": {
    "id": "Wto93v3dC92d",
    "outputId": "f981aec0-d09b-4b6d-b5ed-33a495c61e02"
   },
   "outputs": [
    {
     "data": {
      "text/plain": [
       "array([0.04204054, 0.01499739, 0.00883975, ..., 0.        , 0.        ,\n",
       "       0.        ])"
      ]
     },
     "execution_count": 126,
     "metadata": {},
     "output_type": "execute_result"
    }
   ],
   "source": [
    "importancia= mejor_modelo.best_estimator_.feature_importances_\n",
    "importancia"
   ]
  },
  {
   "cell_type": "code",
   "execution_count": 127,
   "metadata": {
    "id": "7El0FrWSC92d",
    "outputId": "5c3256ee-b3c1-49a8-c3af-90a91416cc5f"
   },
   "outputs": [
    {
     "data": {
      "text/html": [
       "<div>\n",
       "<style scoped>\n",
       "    .dataframe tbody tr th:only-of-type {\n",
       "        vertical-align: middle;\n",
       "    }\n",
       "\n",
       "    .dataframe tbody tr th {\n",
       "        vertical-align: top;\n",
       "    }\n",
       "\n",
       "    .dataframe thead th {\n",
       "        text-align: right;\n",
       "    }\n",
       "</style>\n",
       "<table border=\"1\" class=\"dataframe\">\n",
       "  <thead>\n",
       "    <tr style=\"text-align: right;\">\n",
       "      <th></th>\n",
       "      <th>Atributo</th>\n",
       "      <th>Importancia</th>\n",
       "    </tr>\n",
       "  </thead>\n",
       "  <tbody>\n",
       "    <tr>\n",
       "      <th>0</th>\n",
       "      <td>day</td>\n",
       "      <td>0.560510</td>\n",
       "    </tr>\n",
       "    <tr>\n",
       "      <th>1</th>\n",
       "      <td>month</td>\n",
       "      <td>0.238041</td>\n",
       "    </tr>\n",
       "    <tr>\n",
       "      <th>2</th>\n",
       "      <td>year</td>\n",
       "      <td>0.112309</td>\n",
       "    </tr>\n",
       "    <tr>\n",
       "      <th>3</th>\n",
       "      <td>Conteo</td>\n",
       "      <td>0.042041</td>\n",
       "    </tr>\n",
       "    <tr>\n",
       "      <th>4</th>\n",
       "      <td>Max</td>\n",
       "      <td>0.014997</td>\n",
       "    </tr>\n",
       "  </tbody>\n",
       "</table>\n",
       "</div>"
      ],
      "text/plain": [
       "  Atributo  Importancia\n",
       "0      day     0.560510\n",
       "1    month     0.238041\n",
       "2     year     0.112309\n",
       "3   Conteo     0.042041\n",
       "4      Max     0.014997"
      ]
     },
     "execution_count": 127,
     "metadata": {},
     "output_type": "execute_result"
    }
   ],
   "source": [
    "# Se obtiene la importancia de cada uno de los atributos para el resultado del mejor modelo\n",
    "importancia_atributo = pd.DataFrame(data={\"Atributo\": X_train.columns,\"Importancia\": importancia})\n",
    "importancia_atributo = importancia_atributo.sort_values(by='Importancia', ascending=False).reset_index(drop=True)\n",
    "importancia_atributo.head()"
   ]
  },
  {
   "cell_type": "code",
   "execution_count": 128,
   "metadata": {},
   "outputs": [
    {
     "data": {
      "text/html": [
       "<div>\n",
       "<style scoped>\n",
       "    .dataframe tbody tr th:only-of-type {\n",
       "        vertical-align: middle;\n",
       "    }\n",
       "\n",
       "    .dataframe tbody tr th {\n",
       "        vertical-align: top;\n",
       "    }\n",
       "\n",
       "    .dataframe thead th {\n",
       "        text-align: right;\n",
       "    }\n",
       "</style>\n",
       "<table border=\"1\" class=\"dataframe\">\n",
       "  <thead>\n",
       "    <tr style=\"text-align: right;\">\n",
       "      <th></th>\n",
       "      <th>Atributo</th>\n",
       "      <th>Importancia</th>\n",
       "    </tr>\n",
       "  </thead>\n",
       "  <tbody>\n",
       "    <tr>\n",
       "      <th>0</th>\n",
       "      <td>day</td>\n",
       "      <td>0.560510</td>\n",
       "    </tr>\n",
       "    <tr>\n",
       "      <th>1</th>\n",
       "      <td>month</td>\n",
       "      <td>0.238041</td>\n",
       "    </tr>\n",
       "    <tr>\n",
       "      <th>2</th>\n",
       "      <td>year</td>\n",
       "      <td>0.112309</td>\n",
       "    </tr>\n",
       "    <tr>\n",
       "      <th>3</th>\n",
       "      <td>Conteo</td>\n",
       "      <td>0.042041</td>\n",
       "    </tr>\n",
       "    <tr>\n",
       "      <th>4</th>\n",
       "      <td>Max</td>\n",
       "      <td>0.014997</td>\n",
       "    </tr>\n",
       "    <tr>\n",
       "      <th>5</th>\n",
       "      <td>Min</td>\n",
       "      <td>0.008840</td>\n",
       "    </tr>\n",
       "    <tr>\n",
       "      <th>6</th>\n",
       "      <td>Nurls</td>\n",
       "      <td>0.003269</td>\n",
       "    </tr>\n",
       "    <tr>\n",
       "      <th>7</th>\n",
       "      <td>Ntags</td>\n",
       "      <td>0.003038</td>\n",
       "    </tr>\n",
       "    <tr>\n",
       "      <th>8</th>\n",
       "      <td>3346</td>\n",
       "      <td>0.001814</td>\n",
       "    </tr>\n",
       "    <tr>\n",
       "      <th>9</th>\n",
       "      <td>1987</td>\n",
       "      <td>0.001753</td>\n",
       "    </tr>\n",
       "    <tr>\n",
       "      <th>10</th>\n",
       "      <td>2196</td>\n",
       "      <td>0.001552</td>\n",
       "    </tr>\n",
       "    <tr>\n",
       "      <th>11</th>\n",
       "      <td>3003</td>\n",
       "      <td>0.001268</td>\n",
       "    </tr>\n",
       "    <tr>\n",
       "      <th>12</th>\n",
       "      <td>160</td>\n",
       "      <td>0.001076</td>\n",
       "    </tr>\n",
       "    <tr>\n",
       "      <th>13</th>\n",
       "      <td>4302</td>\n",
       "      <td>0.000982</td>\n",
       "    </tr>\n",
       "    <tr>\n",
       "      <th>14</th>\n",
       "      <td>493</td>\n",
       "      <td>0.000778</td>\n",
       "    </tr>\n",
       "  </tbody>\n",
       "</table>\n",
       "</div>"
      ],
      "text/plain": [
       "   Atributo  Importancia\n",
       "0       day     0.560510\n",
       "1     month     0.238041\n",
       "2      year     0.112309\n",
       "3    Conteo     0.042041\n",
       "4       Max     0.014997\n",
       "5       Min     0.008840\n",
       "6     Nurls     0.003269\n",
       "7     Ntags     0.003038\n",
       "8      3346     0.001814\n",
       "9      1987     0.001753\n",
       "10     2196     0.001552\n",
       "11     3003     0.001268\n",
       "12      160     0.001076\n",
       "13     4302     0.000982\n",
       "14      493     0.000778"
      ]
     },
     "execution_count": 128,
     "metadata": {},
     "output_type": "execute_result"
    }
   ],
   "source": [
    "importancia_atributo.head(15)"
   ]
  },
  {
   "cell_type": "markdown",
   "metadata": {
    "id": "cHD8ycTSC92d"
   },
   "source": [
    "## KNN"
   ]
  },
  {
   "cell_type": "code",
   "execution_count": 97,
   "metadata": {
    "id": "_H98_9PQC92d"
   },
   "outputs": [],
   "source": [
    "knn = KNeighborsClassifier(n_neighbors=3)\n",
    "knn = knn.fit(X_train, Y_train)\n",
    "y_pred = knn.predict(X_test)"
   ]
  },
  {
   "cell_type": "code",
   "execution_count": 98,
   "metadata": {
    "id": "rAN5zOFdC92d",
    "outputId": "75ea29c1-b259-4d2d-c703-a122d0c273ff"
   },
   "outputs": [
    {
     "name": "stdout",
     "output_type": "stream",
     "text": [
      "Exactitud: 0.57\n",
      "Recall: 0.5700803914715135\n",
      "Precisión: 0.569631474471598\n",
      "Puntuación F1: 0.5697211284659609\n"
     ]
    }
   ],
   "source": [
    "print('Exactitud: %.2f' % accuracy_score(Y_test, y_pred))\n",
    "print(\"Recall: {}\".format(recall_score(Y_test, y_pred, average='weighted')))\n",
    "print(\"Precisión: {}\".format(precision_score(Y_test,y_pred, average='weighted')))\n",
    "print(\"Puntuación F1: {}\".format(f1_score(Y_test,y_pred, average='weighted')))"
   ]
  },
  {
   "cell_type": "code",
   "execution_count": 99,
   "metadata": {
    "id": "q6XPtCZPC92e"
   },
   "outputs": [],
   "source": [
    "# Búsqueda de hiper parámetros en KNN\n",
    "# Lista de Hiperparámetros a afinar\n",
    "n_neighbors = list(range(1,20))\n",
    "n_odd_neighbors = list(filter(lambda x: (x % 2 != 0), n_neighbors))\n",
    "p=[1,2] #Función de distancia 1: manhattan, 2: euclidean, otro valor: minkowski\n",
    "\n",
    "#Convert to dictionary\n",
    "hyperparameters = dict(n_neighbors=n_neighbors, p=p)\n",
    "\n",
    "#Create new KNN object\n",
    "knn_2 = KNeighborsClassifier()"
   ]
  },
  {
   "cell_type": "code",
   "execution_count": 100,
   "metadata": {
    "id": "4g_d_CPiC92e"
   },
   "outputs": [
    {
     "name": "stdout",
     "output_type": "stream",
     "text": [
      "Best p: 1\n",
      "Best n_neighbors: 1\n"
     ]
    }
   ],
   "source": [
    "#Usamos GridSearch\n",
    "mejor_modelo_knn = GridSearchCV(knn_2, hyperparameters, cv=10)\n",
    "\n",
    "#Fit the model\n",
    "mejor_modelo_knn.fit(X_train, Y_train)\n",
    "\n",
    "# Podemos ver cuál fue el resultado de la búsqueda (mejores valores de hiperparámetros)\n",
    "print('Best p:', mejor_modelo_knn.best_estimator_.get_params()['p'])\n",
    "print('Best n_neighbors:', mejor_modelo_knn.best_estimator_.get_params()['n_neighbors'])\n",
    "# Obtener el mejor modelo.\n",
    "neigh_final = mejor_modelo_knn.best_estimator_"
   ]
  },
  {
   "cell_type": "code",
   "execution_count": 101,
   "metadata": {
    "id": "CBPd5csMC92e"
   },
   "outputs": [
    {
     "data": {
      "text/plain": [
       "KNeighborsClassifier(n_neighbors=1, p=1)"
      ]
     },
     "execution_count": 101,
     "metadata": {},
     "output_type": "execute_result"
    }
   ],
   "source": [
    "# Podemos ver cuál fue el resultado de la búsqueda (mejores valores de hiperparámetros)\n",
    "neigh_final"
   ]
  },
  {
   "cell_type": "code",
   "execution_count": 102,
   "metadata": {},
   "outputs": [
    {
     "name": "stdout",
     "output_type": "stream",
     "text": [
      "Exactitud: 0.59\n",
      "Recall: 0.5927997203774904\n",
      "Precisión: 0.5930778651194749\n",
      "Puntuación F1: 0.5929005049211218\n"
     ]
    }
   ],
   "source": [
    "#Estadisticas con el conjunto de prueba\n",
    "y_pred = neigh_final.predict(X_test)\n",
    "print('Exactitud: %.2f' % accuracy_score(Y_test, y_pred))\n",
    "print(\"Recall: {}\".format(recall_score(Y_test, y_pred, average='weighted')))\n",
    "print(\"Precisión: {}\".format(precision_score(Y_test,y_pred, average='weighted')))\n",
    "print(\"Puntuación F1: {}\".format(f1_score(Y_test,y_pred, average='weighted')))"
   ]
  },
  {
   "cell_type": "markdown",
   "metadata": {},
   "source": [
    "## Random Forest"
   ]
  },
  {
   "cell_type": "code",
   "execution_count": 103,
   "metadata": {},
   "outputs": [],
   "source": [
    "forest = RandomForestClassifier(n_estimators=100, criterion='gini', min_samples_split=2, max_depth=2)\n",
    "forest = forest.fit(X_train, Y_train)"
   ]
  },
  {
   "cell_type": "code",
   "execution_count": 104,
   "metadata": {},
   "outputs": [
    {
     "name": "stdout",
     "output_type": "stream",
     "text": [
      "Exactitud: 0.52\n",
      "Recall: 0.5193988116043341\n",
      "Precisión: 0.2697751254959946\n",
      "Puntuación F1: 0.3551077221274628\n"
     ]
    }
   ],
   "source": [
    "y_pred = forest.predict(X_test)\n",
    "print('Exactitud: %.2f' % accuracy_score(Y_test, y_pred))\n",
    "print(\"Recall: {}\".format(recall_score(Y_test, y_pred, average='weighted')))\n",
    "print(\"Precisión: {}\".format(precision_score(Y_test,y_pred, average='weighted')))\n",
    "print(\"Puntuación F1: {}\".format(f1_score(Y_test,y_pred, average='weighted')))"
   ]
  },
  {
   "cell_type": "code",
   "execution_count": 105,
   "metadata": {},
   "outputs": [],
   "source": [
    "# Fijemos el número de particiones. Utilizaremos K = 10.\n",
    "particiones = KFold(n_splits=10, shuffle=True, random_state = 0)\n",
    "# Establecemos el espacio de búsqueda para los hiperparámetros que deseamos ajustar. \n",
    "param_grid = {'n_estimators':[50, 100, 200],'criterion':['gini', 'entropy'],'max_depth':[None,4,10,20],'min_samples_split':[4, 10, 20]}"
   ]
  },
  {
   "cell_type": "code",
   "execution_count": 106,
   "metadata": {},
   "outputs": [
    {
     "data": {
      "text/plain": [
       "GridSearchCV(cv=KFold(n_splits=10, random_state=0, shuffle=True),\n",
       "             estimator=RandomForestClassifier(),\n",
       "             param_grid={'criterion': ['gini', 'entropy'],\n",
       "                         'max_depth': [None, 4, 10, 20],\n",
       "                         'min_samples_split': [4, 10, 20],\n",
       "                         'n_estimators': [50, 100, 200]})"
      ]
     },
     "execution_count": 106,
     "metadata": {},
     "output_type": "execute_result"
    }
   ],
   "source": [
    "forest = RandomForestClassifier()\n",
    "# Se comprueban los mejores hiperparametros\n",
    "mejor_modelo = GridSearchCV(forest, param_grid, cv=particiones)\n",
    "# Ajuste del modelo\n",
    "mejor_modelo.fit(X_train, Y_train)"
   ]
  },
  {
   "cell_type": "code",
   "execution_count": 107,
   "metadata": {},
   "outputs": [
    {
     "data": {
      "text/plain": [
       "{'criterion': 'entropy',\n",
       " 'max_depth': None,\n",
       " 'min_samples_split': 10,\n",
       " 'n_estimators': 100}"
      ]
     },
     "execution_count": 107,
     "metadata": {},
     "output_type": "execute_result"
    }
   ],
   "source": [
    "mejor_modelo.best_params_"
   ]
  },
  {
   "cell_type": "code",
   "execution_count": 108,
   "metadata": {},
   "outputs": [
    {
     "name": "stdout",
     "output_type": "stream",
     "text": [
      "Exactitud: 0.71\n",
      "Recall: 0.7102411744145404\n",
      "Precisión: 0.710580948792256\n",
      "Puntuación F1: 0.7094106161730892\n"
     ]
    }
   ],
   "source": [
    "y_pred = mejor_modelo.predict(X_test)\n",
    "print('Exactitud: %.2f' % accuracy_score(Y_test, y_pred))\n",
    "print(\"Recall: {}\".format(recall_score(Y_test, y_pred, average='weighted')))\n",
    "print(\"Precisión: {}\".format(precision_score(Y_test,y_pred, average='weighted')))\n",
    "print(\"Puntuación F1: {}\".format(f1_score(Y_test,y_pred, average='weighted')))"
   ]
  },
  {
   "cell_type": "code",
   "execution_count": 110,
   "metadata": {},
   "outputs": [
    {
     "data": {
      "text/plain": [
       "['rf.joblib']"
      ]
     },
     "execution_count": 110,
     "metadata": {},
     "output_type": "execute_result"
    }
   ],
   "source": [
    " # Usamos la lbreria joblib\n",
    "filename = 'rf.joblib'\n",
    "# Se guarda\n",
    "dump(mejor_modelo.best_estimator_, filename)"
   ]
  },
  {
   "cell_type": "code",
   "execution_count": 111,
   "metadata": {},
   "outputs": [
    {
     "data": {
      "text/plain": [
       "['knn.joblib']"
      ]
     },
     "execution_count": 111,
     "metadata": {},
     "output_type": "execute_result"
    }
   ],
   "source": [
    " # Usamos la lbreria joblib\n",
    "filename = 'knn.joblib'\n",
    "# Se guarda\n",
    "dump(neigh_final, filename)"
   ]
  },
  {
   "cell_type": "code",
   "execution_count": null,
   "metadata": {},
   "outputs": [],
   "source": []
  },
  {
   "cell_type": "code",
   "execution_count": null,
   "metadata": {},
   "outputs": [],
   "source": []
  }
 ],
 "metadata": {
  "colab": {
   "name": "proyecto.ipynb",
   "provenance": []
  },
  "kernelspec": {
   "display_name": "Python 3",
   "language": "python",
   "name": "python3"
  },
  "language_info": {
   "codemirror_mode": {
    "name": "ipython",
    "version": 3
   },
   "file_extension": ".py",
   "mimetype": "text/x-python",
   "name": "python",
   "nbconvert_exporter": "python",
   "pygments_lexer": "ipython3",
   "version": "3.8.8"
  }
 },
 "nbformat": 4,
 "nbformat_minor": 4
}
